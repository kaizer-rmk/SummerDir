{
 "cells": [
  {
   "cell_type": "code",
   "execution_count": 2,
   "id": "79f64796",
   "metadata": {},
   "outputs": [],
   "source": [
    "import pandas as pd"
   ]
  },
  {
   "cell_type": "code",
   "execution_count": 6,
   "id": "49270297",
   "metadata": {},
   "outputs": [],
   "source": [
    "dataset = pd.read_csv(r'D:\\Projects\\SummerDir\\datasets\\pima-indians-diabetes.data.csv',header=None)"
   ]
  },
  {
   "cell_type": "code",
   "execution_count": 7,
   "id": "7201e288",
   "metadata": {},
   "outputs": [
    {
     "data": {
      "text/html": [
       "<div>\n",
       "<style scoped>\n",
       "    .dataframe tbody tr th:only-of-type {\n",
       "        vertical-align: middle;\n",
       "    }\n",
       "\n",
       "    .dataframe tbody tr th {\n",
       "        vertical-align: top;\n",
       "    }\n",
       "\n",
       "    .dataframe thead th {\n",
       "        text-align: right;\n",
       "    }\n",
       "</style>\n",
       "<table border=\"1\" class=\"dataframe\">\n",
       "  <thead>\n",
       "    <tr style=\"text-align: right;\">\n",
       "      <th></th>\n",
       "      <th>0</th>\n",
       "      <th>1</th>\n",
       "      <th>2</th>\n",
       "      <th>3</th>\n",
       "      <th>4</th>\n",
       "      <th>5</th>\n",
       "      <th>6</th>\n",
       "      <th>7</th>\n",
       "      <th>8</th>\n",
       "    </tr>\n",
       "  </thead>\n",
       "  <tbody>\n",
       "    <tr>\n",
       "      <th>0</th>\n",
       "      <td>6</td>\n",
       "      <td>148</td>\n",
       "      <td>72</td>\n",
       "      <td>35</td>\n",
       "      <td>0</td>\n",
       "      <td>33.6</td>\n",
       "      <td>0.627</td>\n",
       "      <td>50</td>\n",
       "      <td>1</td>\n",
       "    </tr>\n",
       "    <tr>\n",
       "      <th>1</th>\n",
       "      <td>1</td>\n",
       "      <td>85</td>\n",
       "      <td>66</td>\n",
       "      <td>29</td>\n",
       "      <td>0</td>\n",
       "      <td>26.6</td>\n",
       "      <td>0.351</td>\n",
       "      <td>31</td>\n",
       "      <td>0</td>\n",
       "    </tr>\n",
       "    <tr>\n",
       "      <th>2</th>\n",
       "      <td>8</td>\n",
       "      <td>183</td>\n",
       "      <td>64</td>\n",
       "      <td>0</td>\n",
       "      <td>0</td>\n",
       "      <td>23.3</td>\n",
       "      <td>0.672</td>\n",
       "      <td>32</td>\n",
       "      <td>1</td>\n",
       "    </tr>\n",
       "    <tr>\n",
       "      <th>3</th>\n",
       "      <td>1</td>\n",
       "      <td>89</td>\n",
       "      <td>66</td>\n",
       "      <td>23</td>\n",
       "      <td>94</td>\n",
       "      <td>28.1</td>\n",
       "      <td>0.167</td>\n",
       "      <td>21</td>\n",
       "      <td>0</td>\n",
       "    </tr>\n",
       "    <tr>\n",
       "      <th>4</th>\n",
       "      <td>0</td>\n",
       "      <td>137</td>\n",
       "      <td>40</td>\n",
       "      <td>35</td>\n",
       "      <td>168</td>\n",
       "      <td>43.1</td>\n",
       "      <td>2.288</td>\n",
       "      <td>33</td>\n",
       "      <td>1</td>\n",
       "    </tr>\n",
       "  </tbody>\n",
       "</table>\n",
       "</div>"
      ],
      "text/plain": [
       "   0    1   2   3    4     5      6   7  8\n",
       "0  6  148  72  35    0  33.6  0.627  50  1\n",
       "1  1   85  66  29    0  26.6  0.351  31  0\n",
       "2  8  183  64   0    0  23.3  0.672  32  1\n",
       "3  1   89  66  23   94  28.1  0.167  21  0\n",
       "4  0  137  40  35  168  43.1  2.288  33  1"
      ]
     },
     "execution_count": 7,
     "metadata": {},
     "output_type": "execute_result"
    }
   ],
   "source": [
    "dataset.head(5)"
   ]
  },
  {
   "cell_type": "code",
   "execution_count": 8,
   "id": "7efd5317",
   "metadata": {},
   "outputs": [],
   "source": [
    "y = dataset[8]"
   ]
  },
  {
   "cell_type": "code",
   "execution_count": 9,
   "id": "91368c70",
   "metadata": {},
   "outputs": [],
   "source": [
    "X = dataset[[0,1,2,3,4,5,6,7]]"
   ]
  },
  {
   "cell_type": "code",
   "execution_count": 11,
   "id": "daaf714b",
   "metadata": {},
   "outputs": [],
   "source": [
    "from keras.models import Sequential"
   ]
  },
  {
   "cell_type": "code",
   "execution_count": 12,
   "id": "788f7756",
   "metadata": {},
   "outputs": [],
   "source": [
    "model = Sequential()"
   ]
  },
  {
   "cell_type": "code",
   "execution_count": 13,
   "id": "fc9c8aed",
   "metadata": {},
   "outputs": [
    {
     "data": {
      "text/plain": [
       "{'name': 'sequential', 'layers': []}"
      ]
     },
     "execution_count": 13,
     "metadata": {},
     "output_type": "execute_result"
    }
   ],
   "source": [
    "model.get_config()"
   ]
  },
  {
   "cell_type": "code",
   "execution_count": 14,
   "id": "096a81de",
   "metadata": {},
   "outputs": [],
   "source": [
    "from keras.layers import Dense"
   ]
  },
  {
   "cell_type": "code",
   "execution_count": 15,
   "id": "9894ca4e",
   "metadata": {},
   "outputs": [],
   "source": [
    "#Now we going to add a layer with 4 neuron to it\n",
    "model.add(Dense(units=4,kernel_initializer=\"zeros\",bias_initializer=\"zeros\",input_dim=8,activation=\"relu\"))"
   ]
  },
  {
   "cell_type": "code",
   "execution_count": 16,
   "id": "b1cc8337",
   "metadata": {},
   "outputs": [
    {
     "data": {
      "text/plain": [
       "{'name': 'sequential',\n",
       " 'layers': [{'class_name': 'InputLayer',\n",
       "   'config': {'batch_input_shape': (None, 8),\n",
       "    'dtype': 'float32',\n",
       "    'sparse': False,\n",
       "    'ragged': False,\n",
       "    'name': 'dense_input'}},\n",
       "  {'class_name': 'Dense',\n",
       "   'config': {'name': 'dense',\n",
       "    'trainable': True,\n",
       "    'batch_input_shape': (None, 8),\n",
       "    'dtype': 'float32',\n",
       "    'units': 4,\n",
       "    'activation': 'relu',\n",
       "    'use_bias': True,\n",
       "    'kernel_initializer': {'class_name': 'Zeros', 'config': {}},\n",
       "    'bias_initializer': {'class_name': 'Zeros', 'config': {}},\n",
       "    'kernel_regularizer': None,\n",
       "    'bias_regularizer': None,\n",
       "    'activity_regularizer': None,\n",
       "    'kernel_constraint': None,\n",
       "    'bias_constraint': None}}]}"
      ]
     },
     "execution_count": 16,
     "metadata": {},
     "output_type": "execute_result"
    }
   ],
   "source": [
    "model.get_config()"
   ]
  },
  {
   "cell_type": "code",
   "execution_count": 17,
   "id": "fab4c483",
   "metadata": {},
   "outputs": [
    {
     "name": "stdout",
     "output_type": "stream",
     "text": [
      "Model: \"sequential\"\n",
      "_________________________________________________________________\n",
      "Layer (type)                 Output Shape              Param #   \n",
      "=================================================================\n",
      "dense (Dense)                (None, 4)                 36        \n",
      "=================================================================\n",
      "Total params: 36\n",
      "Trainable params: 36\n",
      "Non-trainable params: 0\n",
      "_________________________________________________________________\n"
     ]
    }
   ],
   "source": [
    "#It gives 36 parameter as 1 for bias, rest are 8 input * 4 unit neuron\n",
    "model.summary()"
   ]
  },
  {
   "cell_type": "code",
   "execution_count": 18,
   "id": "469ef0d6",
   "metadata": {},
   "outputs": [],
   "source": [
    "# Lets add one more layer\n",
    "# here we don't have to specify dimention \n",
    "model.add(Dense(units=4,activation=\"relu\",kernel_initializer=\"zeros\",bias_initializer=\"zeros\"))"
   ]
  },
  {
   "cell_type": "code",
   "execution_count": 19,
   "id": "c133919f",
   "metadata": {},
   "outputs": [
    {
     "data": {
      "text/plain": [
       "{'name': 'sequential',\n",
       " 'layers': [{'class_name': 'InputLayer',\n",
       "   'config': {'batch_input_shape': (None, 8),\n",
       "    'dtype': 'float32',\n",
       "    'sparse': False,\n",
       "    'ragged': False,\n",
       "    'name': 'dense_input'}},\n",
       "  {'class_name': 'Dense',\n",
       "   'config': {'name': 'dense',\n",
       "    'trainable': True,\n",
       "    'batch_input_shape': (None, 8),\n",
       "    'dtype': 'float32',\n",
       "    'units': 4,\n",
       "    'activation': 'relu',\n",
       "    'use_bias': True,\n",
       "    'kernel_initializer': {'class_name': 'Zeros', 'config': {}},\n",
       "    'bias_initializer': {'class_name': 'Zeros', 'config': {}},\n",
       "    'kernel_regularizer': None,\n",
       "    'bias_regularizer': None,\n",
       "    'activity_regularizer': None,\n",
       "    'kernel_constraint': None,\n",
       "    'bias_constraint': None}},\n",
       "  {'class_name': 'Dense',\n",
       "   'config': {'name': 'dense_1',\n",
       "    'trainable': True,\n",
       "    'dtype': 'float32',\n",
       "    'units': 4,\n",
       "    'activation': 'relu',\n",
       "    'use_bias': True,\n",
       "    'kernel_initializer': {'class_name': 'Zeros', 'config': {}},\n",
       "    'bias_initializer': {'class_name': 'Zeros', 'config': {}},\n",
       "    'kernel_regularizer': None,\n",
       "    'bias_regularizer': None,\n",
       "    'activity_regularizer': None,\n",
       "    'kernel_constraint': None,\n",
       "    'bias_constraint': None}}]}"
      ]
     },
     "execution_count": 19,
     "metadata": {},
     "output_type": "execute_result"
    }
   ],
   "source": [
    "model.get_config()"
   ]
  },
  {
   "cell_type": "code",
   "execution_count": 20,
   "id": "d176fdd1",
   "metadata": {},
   "outputs": [
    {
     "name": "stdout",
     "output_type": "stream",
     "text": [
      "Model: \"sequential\"\n",
      "_________________________________________________________________\n",
      "Layer (type)                 Output Shape              Param #   \n",
      "=================================================================\n",
      "dense (Dense)                (None, 4)                 36        \n",
      "_________________________________________________________________\n",
      "dense_1 (Dense)              (None, 4)                 20        \n",
      "=================================================================\n",
      "Total params: 56\n",
      "Trainable params: 56\n",
      "Non-trainable params: 0\n",
      "_________________________________________________________________\n"
     ]
    }
   ],
   "source": [
    "#Now as you can see now we have 20 parameter: 1 bias everyone has + 4*4: 4+16 = 20\n",
    "model.summary()"
   ]
  },
  {
   "cell_type": "code",
   "execution_count": 21,
   "id": "28312bce",
   "metadata": {},
   "outputs": [],
   "source": [
    "#We used sigmoid as we want the output in 0 or 1\n",
    "model.add(Dense(units=1,activation=\"sigmoid\",bias_initializer=\"zeros\",kernel_initializer=\"zeros\"))"
   ]
  },
  {
   "cell_type": "code",
   "execution_count": 22,
   "id": "55e6d0a0",
   "metadata": {},
   "outputs": [
    {
     "name": "stdout",
     "output_type": "stream",
     "text": [
      "Model: \"sequential\"\n",
      "_________________________________________________________________\n",
      "Layer (type)                 Output Shape              Param #   \n",
      "=================================================================\n",
      "dense (Dense)                (None, 4)                 36        \n",
      "_________________________________________________________________\n",
      "dense_1 (Dense)              (None, 4)                 20        \n",
      "_________________________________________________________________\n",
      "dense_2 (Dense)              (None, 1)                 5         \n",
      "=================================================================\n",
      "Total params: 61\n",
      "Trainable params: 61\n",
      "Non-trainable params: 0\n",
      "_________________________________________________________________\n"
     ]
    }
   ],
   "source": [
    "model.summary()"
   ]
  },
  {
   "cell_type": "code",
   "execution_count": 23,
   "id": "32d43710",
   "metadata": {},
   "outputs": [],
   "source": [
    "#In order to create model we have to compile it\n",
    "model.compile(optimizer=\"adam\",loss=\"binary_crossentropy\")"
   ]
  },
  {
   "cell_type": "code",
   "execution_count": 25,
   "id": "0a4417cd",
   "metadata": {},
   "outputs": [
    {
     "name": "stdout",
     "output_type": "stream",
     "text": [
      "Epoch 1/100\n",
      "24/24 [==============================] - 0s 865us/step - loss: 0.6884\n",
      "Epoch 2/100\n",
      "24/24 [==============================] - 0s 959us/step - loss: 0.6856\n",
      "Epoch 3/100\n",
      "24/24 [==============================] - 0s 964us/step - loss: 0.6829\n",
      "Epoch 4/100\n",
      "24/24 [==============================] - 0s 855us/step - loss: 0.6804\n",
      "Epoch 5/100\n",
      "24/24 [==============================] - 0s 927us/step - loss: 0.6780\n",
      "Epoch 6/100\n",
      "24/24 [==============================] - 0s 915us/step - loss: 0.6759\n",
      "Epoch 7/100\n",
      "24/24 [==============================] - 0s 850us/step - loss: 0.6737\n",
      "Epoch 8/100\n",
      "24/24 [==============================] - 0s 984us/step - loss: 0.6717\n",
      "Epoch 9/100\n",
      "24/24 [==============================] - 0s 802us/step - loss: 0.6699\n",
      "Epoch 10/100\n",
      "24/24 [==============================] - 0s 921us/step - loss: 0.6682\n",
      "Epoch 11/100\n",
      "24/24 [==============================] - 0s 907us/step - loss: 0.6665\n",
      "Epoch 12/100\n",
      "24/24 [==============================] - 0s 858us/step - loss: 0.6650\n",
      "Epoch 13/100\n",
      "24/24 [==============================] - 0s 986us/step - loss: 0.6635\n",
      "Epoch 14/100\n",
      "24/24 [==============================] - 0s 981us/step - loss: 0.6623\n",
      "Epoch 15/100\n",
      "24/24 [==============================] - 0s 988us/step - loss: 0.6610\n",
      "Epoch 16/100\n",
      "24/24 [==============================] - 0s 912us/step - loss: 0.6598\n",
      "Epoch 17/100\n",
      "24/24 [==============================] - 0s 931us/step - loss: 0.6589\n",
      "Epoch 18/100\n",
      "24/24 [==============================] - 0s 911us/step - loss: 0.6578\n",
      "Epoch 19/100\n",
      "24/24 [==============================] - 0s 943us/step - loss: 0.6569\n",
      "Epoch 20/100\n",
      "24/24 [==============================] - 0s 1ms/step - loss: 0.6561\n",
      "Epoch 21/100\n",
      "24/24 [==============================] - 0s 851us/step - loss: 0.6553\n",
      "Epoch 22/100\n",
      "24/24 [==============================] - 0s 931us/step - loss: 0.6546\n",
      "Epoch 23/100\n",
      "24/24 [==============================] - 0s 902us/step - loss: 0.6540\n",
      "Epoch 24/100\n",
      "24/24 [==============================] - 0s 956us/step - loss: 0.6533\n",
      "Epoch 25/100\n",
      "24/24 [==============================] - 0s 1ms/step - loss: 0.6528\n",
      "Epoch 26/100\n",
      "24/24 [==============================] - 0s 1ms/step - loss: 0.6523\n",
      "Epoch 27/100\n",
      "24/24 [==============================] - 0s 1ms/step - loss: 0.6518\n",
      "Epoch 28/100\n",
      "24/24 [==============================] - 0s 907us/step - loss: 0.6514\n",
      "Epoch 29/100\n",
      "24/24 [==============================] - 0s 934us/step - loss: 0.6510\n",
      "Epoch 30/100\n",
      "24/24 [==============================] - 0s 937us/step - loss: 0.6506\n",
      "Epoch 31/100\n",
      "24/24 [==============================] - 0s 887us/step - loss: 0.6503\n",
      "Epoch 32/100\n",
      "24/24 [==============================] - 0s 1ms/step - loss: 0.6499\n",
      "Epoch 33/100\n",
      "24/24 [==============================] - 0s 961us/step - loss: 0.6496\n",
      "Epoch 34/100\n",
      "24/24 [==============================] - 0s 945us/step - loss: 0.6494\n",
      "Epoch 35/100\n",
      "24/24 [==============================] - 0s 1ms/step - loss: 0.6492\n",
      "Epoch 36/100\n",
      "24/24 [==============================] - 0s 854us/step - loss: 0.6489\n",
      "Epoch 37/100\n",
      "24/24 [==============================] - 0s 972us/step - loss: 0.6487\n",
      "Epoch 38/100\n",
      "24/24 [==============================] - 0s 926us/step - loss: 0.6486\n",
      "Epoch 39/100\n",
      "24/24 [==============================] - 0s 907us/step - loss: 0.6484\n",
      "Epoch 40/100\n",
      "24/24 [==============================] - 0s 1ms/step - loss: 0.6483\n",
      "Epoch 41/100\n",
      "24/24 [==============================] - 0s 1ms/step - loss: 0.6481\n",
      "Epoch 42/100\n",
      "24/24 [==============================] - 0s 1ms/step - loss: 0.6480\n",
      "Epoch 43/100\n",
      "24/24 [==============================] - 0s 1ms/step - loss: 0.6478\n",
      "Epoch 44/100\n",
      "24/24 [==============================] - 0s 1ms/step - loss: 0.6478\n",
      "Epoch 45/100\n",
      "24/24 [==============================] - 0s 901us/step - loss: 0.6477\n",
      "Epoch 46/100\n",
      "24/24 [==============================] - ETA: 0s - loss: 0.644 - 0s 775us/step - loss: 0.6476\n",
      "Epoch 47/100\n",
      "24/24 [==============================] - 0s 805us/step - loss: 0.6475\n",
      "Epoch 48/100\n",
      "24/24 [==============================] - 0s 988us/step - loss: 0.6474\n",
      "Epoch 49/100\n",
      "24/24 [==============================] - 0s 824us/step - loss: 0.6474\n",
      "Epoch 50/100\n",
      "24/24 [==============================] - 0s 780us/step - loss: 0.6473\n",
      "Epoch 51/100\n",
      "24/24 [==============================] - 0s 857us/step - loss: 0.6473\n",
      "Epoch 52/100\n",
      "24/24 [==============================] - 0s 866us/step - loss: 0.6472\n",
      "Epoch 53/100\n",
      "24/24 [==============================] - 0s 782us/step - loss: 0.6472\n",
      "Epoch 54/100\n",
      "24/24 [==============================] - 0s 824us/step - loss: 0.6471\n",
      "Epoch 55/100\n",
      "24/24 [==============================] - 0s 818us/step - loss: 0.6471\n",
      "Epoch 56/100\n",
      "24/24 [==============================] - 0s 806us/step - loss: 0.6471\n",
      "Epoch 57/100\n",
      "24/24 [==============================] - 0s 824us/step - loss: 0.6471\n",
      "Epoch 58/100\n",
      "24/24 [==============================] - 0s 824us/step - loss: 0.6470\n",
      "Epoch 59/100\n",
      "24/24 [==============================] - 0s 734us/step - loss: 0.6470\n",
      "Epoch 60/100\n",
      "24/24 [==============================] - 0s 788us/step - loss: 0.6470\n",
      "Epoch 61/100\n",
      "24/24 [==============================] - 0s 817us/step - loss: 0.6470\n",
      "Epoch 62/100\n",
      "24/24 [==============================] - 0s 831us/step - loss: 0.6470\n",
      "Epoch 63/100\n",
      "24/24 [==============================] - 0s 833us/step - loss: 0.6469\n",
      "Epoch 64/100\n",
      "24/24 [==============================] - 0s 742us/step - loss: 0.6469\n",
      "Epoch 65/100\n",
      "24/24 [==============================] - 0s 850us/step - loss: 0.6469\n",
      "Epoch 66/100\n",
      "24/24 [==============================] - 0s 881us/step - loss: 0.6469\n",
      "Epoch 67/100\n",
      "24/24 [==============================] - 0s 806us/step - loss: 0.6469\n",
      "Epoch 68/100\n",
      "24/24 [==============================] - 0s 850us/step - loss: 0.6469\n",
      "Epoch 69/100\n",
      "24/24 [==============================] - 0s 957us/step - loss: 0.6469\n",
      "Epoch 70/100\n",
      "24/24 [==============================] - 0s 885us/step - loss: 0.6469\n",
      "Epoch 71/100\n",
      "24/24 [==============================] - 0s 912us/step - loss: 0.6469\n",
      "Epoch 72/100\n",
      "24/24 [==============================] - 0s 978us/step - loss: 0.6469\n",
      "Epoch 73/100\n",
      "24/24 [==============================] - 0s 739us/step - loss: 0.6468\n",
      "Epoch 74/100\n",
      "24/24 [==============================] - 0s 897us/step - loss: 0.6469\n",
      "Epoch 75/100\n",
      "24/24 [==============================] - 0s 911us/step - loss: 0.6469\n",
      "Epoch 76/100\n",
      "24/24 [==============================] - 0s 885us/step - loss: 0.6468\n",
      "Epoch 77/100\n",
      "24/24 [==============================] - 0s 891us/step - loss: 0.6468\n",
      "Epoch 78/100\n",
      "24/24 [==============================] - 0s 804us/step - loss: 0.6468\n",
      "Epoch 79/100\n",
      "24/24 [==============================] - ETA: 0s - loss: 0.586 - 0s 868us/step - loss: 0.6468\n",
      "Epoch 80/100\n",
      "24/24 [==============================] - 0s 808us/step - loss: 0.6468\n",
      "Epoch 81/100\n",
      "24/24 [==============================] - 0s 819us/step - loss: 0.6468\n",
      "Epoch 82/100\n",
      "24/24 [==============================] - 0s 824us/step - loss: 0.6468\n",
      "Epoch 83/100\n",
      "24/24 [==============================] - 0s 824us/step - loss: 0.6468\n",
      "Epoch 84/100\n",
      "24/24 [==============================] - 0s 824us/step - loss: 0.6468\n",
      "Epoch 85/100\n",
      "24/24 [==============================] - 0s 781us/step - loss: 0.6468\n",
      "Epoch 86/100\n",
      "24/24 [==============================] - 0s 830us/step - loss: 0.6468\n",
      "Epoch 87/100\n",
      "24/24 [==============================] - 0s 780us/step - loss: 0.6468\n",
      "Epoch 88/100\n",
      "24/24 [==============================] - 0s 780us/step - loss: 0.6468\n",
      "Epoch 89/100\n",
      "24/24 [==============================] - 0s 786us/step - loss: 0.6468\n",
      "Epoch 90/100\n",
      "24/24 [==============================] - ETA: 0s - loss: 0.624 - 0s 824us/step - loss: 0.6468\n",
      "Epoch 91/100\n",
      "24/24 [==============================] - 0s 824us/step - loss: 0.6469\n",
      "Epoch 92/100\n",
      "24/24 [==============================] - 0s 849us/step - loss: 0.6468\n",
      "Epoch 93/100\n",
      "24/24 [==============================] - 0s 735us/step - loss: 0.6468\n",
      "Epoch 94/100\n",
      "24/24 [==============================] - 0s 909us/step - loss: 0.6468\n",
      "Epoch 95/100\n",
      "24/24 [==============================] - 0s 866us/step - loss: 0.6469\n",
      "Epoch 96/100\n",
      "24/24 [==============================] - 0s 840us/step - loss: 0.6468\n",
      "Epoch 97/100\n",
      "24/24 [==============================] - 0s 895us/step - loss: 0.6468\n",
      "Epoch 98/100\n",
      "24/24 [==============================] - 0s 997us/step - loss: 0.6469\n",
      "Epoch 99/100\n"
     ]
    },
    {
     "name": "stdout",
     "output_type": "stream",
     "text": [
      "24/24 [==============================] - 0s 694us/step - loss: 0.6468\n",
      "Epoch 100/100\n",
      "24/24 [==============================] - 0s 954us/step - loss: 0.6468\n"
     ]
    },
    {
     "data": {
      "text/plain": [
       "<keras.callbacks.History at 0x180f1596df0>"
      ]
     },
     "execution_count": 25,
     "metadata": {},
     "output_type": "execute_result"
    }
   ],
   "source": [
    "#epochs=100 it means how many times model will go back to reduce the loss\n",
    "model.fit(X,y,epochs=100)"
   ]
  },
  {
   "cell_type": "code",
   "execution_count": null,
   "id": "8974fbef",
   "metadata": {},
   "outputs": [],
   "source": []
  }
 ],
 "metadata": {
  "kernelspec": {
   "display_name": "Python 3",
   "language": "python",
   "name": "python3"
  },
  "language_info": {
   "codemirror_mode": {
    "name": "ipython",
    "version": 3
   },
   "file_extension": ".py",
   "mimetype": "text/x-python",
   "name": "python",
   "nbconvert_exporter": "python",
   "pygments_lexer": "ipython3",
   "version": "3.8.8"
  }
 },
 "nbformat": 4,
 "nbformat_minor": 5
}
