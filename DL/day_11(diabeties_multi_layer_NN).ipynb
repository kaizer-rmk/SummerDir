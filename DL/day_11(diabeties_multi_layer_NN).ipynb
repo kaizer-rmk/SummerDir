{
 "cells": [
  {
   "cell_type": "code",
   "execution_count": 2,
   "id": "aadac4a7",
   "metadata": {},
   "outputs": [],
   "source": [
    "import pandas as pd"
   ]
  },
  {
   "cell_type": "code",
   "execution_count": 6,
   "id": "a60d8225",
   "metadata": {},
   "outputs": [],
   "source": [
    "dataset = pd.read_csv(r'D:\\Projects\\SummerDir\\datasets\\pima-indians-diabetes.data.csv',header=None)"
   ]
  },
  {
   "cell_type": "code",
   "execution_count": 7,
   "id": "b30e8fa6",
   "metadata": {},
   "outputs": [
    {
     "data": {
      "text/html": [
       "<div>\n",
       "<style scoped>\n",
       "    .dataframe tbody tr th:only-of-type {\n",
       "        vertical-align: middle;\n",
       "    }\n",
       "\n",
       "    .dataframe tbody tr th {\n",
       "        vertical-align: top;\n",
       "    }\n",
       "\n",
       "    .dataframe thead th {\n",
       "        text-align: right;\n",
       "    }\n",
       "</style>\n",
       "<table border=\"1\" class=\"dataframe\">\n",
       "  <thead>\n",
       "    <tr style=\"text-align: right;\">\n",
       "      <th></th>\n",
       "      <th>0</th>\n",
       "      <th>1</th>\n",
       "      <th>2</th>\n",
       "      <th>3</th>\n",
       "      <th>4</th>\n",
       "      <th>5</th>\n",
       "      <th>6</th>\n",
       "      <th>7</th>\n",
       "      <th>8</th>\n",
       "    </tr>\n",
       "  </thead>\n",
       "  <tbody>\n",
       "    <tr>\n",
       "      <th>0</th>\n",
       "      <td>6</td>\n",
       "      <td>148</td>\n",
       "      <td>72</td>\n",
       "      <td>35</td>\n",
       "      <td>0</td>\n",
       "      <td>33.6</td>\n",
       "      <td>0.627</td>\n",
       "      <td>50</td>\n",
       "      <td>1</td>\n",
       "    </tr>\n",
       "    <tr>\n",
       "      <th>1</th>\n",
       "      <td>1</td>\n",
       "      <td>85</td>\n",
       "      <td>66</td>\n",
       "      <td>29</td>\n",
       "      <td>0</td>\n",
       "      <td>26.6</td>\n",
       "      <td>0.351</td>\n",
       "      <td>31</td>\n",
       "      <td>0</td>\n",
       "    </tr>\n",
       "    <tr>\n",
       "      <th>2</th>\n",
       "      <td>8</td>\n",
       "      <td>183</td>\n",
       "      <td>64</td>\n",
       "      <td>0</td>\n",
       "      <td>0</td>\n",
       "      <td>23.3</td>\n",
       "      <td>0.672</td>\n",
       "      <td>32</td>\n",
       "      <td>1</td>\n",
       "    </tr>\n",
       "    <tr>\n",
       "      <th>3</th>\n",
       "      <td>1</td>\n",
       "      <td>89</td>\n",
       "      <td>66</td>\n",
       "      <td>23</td>\n",
       "      <td>94</td>\n",
       "      <td>28.1</td>\n",
       "      <td>0.167</td>\n",
       "      <td>21</td>\n",
       "      <td>0</td>\n",
       "    </tr>\n",
       "    <tr>\n",
       "      <th>4</th>\n",
       "      <td>0</td>\n",
       "      <td>137</td>\n",
       "      <td>40</td>\n",
       "      <td>35</td>\n",
       "      <td>168</td>\n",
       "      <td>43.1</td>\n",
       "      <td>2.288</td>\n",
       "      <td>33</td>\n",
       "      <td>1</td>\n",
       "    </tr>\n",
       "  </tbody>\n",
       "</table>\n",
       "</div>"
      ],
      "text/plain": [
       "   0    1   2   3    4     5      6   7  8\n",
       "0  6  148  72  35    0  33.6  0.627  50  1\n",
       "1  1   85  66  29    0  26.6  0.351  31  0\n",
       "2  8  183  64   0    0  23.3  0.672  32  1\n",
       "3  1   89  66  23   94  28.1  0.167  21  0\n",
       "4  0  137  40  35  168  43.1  2.288  33  1"
      ]
     },
     "execution_count": 7,
     "metadata": {},
     "output_type": "execute_result"
    }
   ],
   "source": [
    "dataset.head(5)"
   ]
  },
  {
   "cell_type": "code",
   "execution_count": 8,
   "id": "7a95ca72",
   "metadata": {},
   "outputs": [],
   "source": [
    "y = dataset[8]"
   ]
  },
  {
   "cell_type": "code",
   "execution_count": 9,
   "id": "bc784dfd",
   "metadata": {},
   "outputs": [],
   "source": [
    "X = dataset[[0,1,2,3,4,5,6,7]]"
   ]
  },
  {
   "cell_type": "code",
   "execution_count": 11,
   "id": "a3d6a2e5",
   "metadata": {},
   "outputs": [],
   "source": [
    "from keras.models import Sequential"
   ]
  },
  {
   "cell_type": "code",
   "execution_count": 12,
   "id": "180b80ec",
   "metadata": {},
   "outputs": [],
   "source": [
    "model = Sequential()"
   ]
  },
  {
   "cell_type": "code",
   "execution_count": 13,
   "id": "2e13d1bc",
   "metadata": {},
   "outputs": [
    {
     "data": {
      "text/plain": [
       "{'name': 'sequential', 'layers': []}"
      ]
     },
     "execution_count": 13,
     "metadata": {},
     "output_type": "execute_result"
    }
   ],
   "source": [
    "model.get_config()"
   ]
  },
  {
   "cell_type": "code",
   "execution_count": 14,
   "id": "bf53590d",
   "metadata": {},
   "outputs": [],
   "source": [
    "from keras.layers import Dense"
   ]
  },
  {
   "cell_type": "code",
   "execution_count": 15,
   "id": "70e092ae",
   "metadata": {},
   "outputs": [],
   "source": [
    "#Now we going to add a layer with 4 neuron to it\n",
    "model.add(Dense(units=4,kernel_initializer=\"zeros\",bias_initializer=\"zeros\",input_dim=8,activation=\"relu\"))"
   ]
  },
  {
   "cell_type": "code",
   "execution_count": 16,
   "id": "cd6fdda6",
   "metadata": {},
   "outputs": [
    {
     "data": {
      "text/plain": [
       "{'name': 'sequential',\n",
       " 'layers': [{'class_name': 'InputLayer',\n",
       "   'config': {'batch_input_shape': (None, 8),\n",
       "    'dtype': 'float32',\n",
       "    'sparse': False,\n",
       "    'ragged': False,\n",
       "    'name': 'dense_input'}},\n",
       "  {'class_name': 'Dense',\n",
       "   'config': {'name': 'dense',\n",
       "    'trainable': True,\n",
       "    'batch_input_shape': (None, 8),\n",
       "    'dtype': 'float32',\n",
       "    'units': 4,\n",
       "    'activation': 'relu',\n",
       "    'use_bias': True,\n",
       "    'kernel_initializer': {'class_name': 'Zeros', 'config': {}},\n",
       "    'bias_initializer': {'class_name': 'Zeros', 'config': {}},\n",
       "    'kernel_regularizer': None,\n",
       "    'bias_regularizer': None,\n",
       "    'activity_regularizer': None,\n",
       "    'kernel_constraint': None,\n",
       "    'bias_constraint': None}}]}"
      ]
     },
     "execution_count": 16,
     "metadata": {},
     "output_type": "execute_result"
    }
   ],
   "source": [
    "model.get_config()"
   ]
  },
  {
   "cell_type": "code",
   "execution_count": 17,
   "id": "99faf2ac",
   "metadata": {},
   "outputs": [
    {
     "name": "stdout",
     "output_type": "stream",
     "text": [
      "Model: \"sequential\"\n",
      "_________________________________________________________________\n",
      "Layer (type)                 Output Shape              Param #   \n",
      "=================================================================\n",
      "dense (Dense)                (None, 4)                 36        \n",
      "=================================================================\n",
      "Total params: 36\n",
      "Trainable params: 36\n",
      "Non-trainable params: 0\n",
      "_________________________________________________________________\n"
     ]
    }
   ],
   "source": [
    "#It gives 36 parameter as 1 for bias, rest are 8 input * 4 unit neuron\n",
    "model.summary()"
   ]
  },
  {
   "cell_type": "code",
   "execution_count": 18,
   "id": "02f98350",
   "metadata": {},
   "outputs": [],
   "source": [
    "# Lets add one more layer\n",
    "# here we don't have to specify dimention \n",
    "model.add(Dense(units=4,activation=\"relu\",kernel_initializer=\"zeros\",bias_initializer=\"zeros\"))"
   ]
  },
  {
   "cell_type": "code",
   "execution_count": 19,
   "id": "f5d494d7",
   "metadata": {},
   "outputs": [
    {
     "data": {
      "text/plain": [
       "{'name': 'sequential',\n",
       " 'layers': [{'class_name': 'InputLayer',\n",
       "   'config': {'batch_input_shape': (None, 8),\n",
       "    'dtype': 'float32',\n",
       "    'sparse': False,\n",
       "    'ragged': False,\n",
       "    'name': 'dense_input'}},\n",
       "  {'class_name': 'Dense',\n",
       "   'config': {'name': 'dense',\n",
       "    'trainable': True,\n",
       "    'batch_input_shape': (None, 8),\n",
       "    'dtype': 'float32',\n",
       "    'units': 4,\n",
       "    'activation': 'relu',\n",
       "    'use_bias': True,\n",
       "    'kernel_initializer': {'class_name': 'Zeros', 'config': {}},\n",
       "    'bias_initializer': {'class_name': 'Zeros', 'config': {}},\n",
       "    'kernel_regularizer': None,\n",
       "    'bias_regularizer': None,\n",
       "    'activity_regularizer': None,\n",
       "    'kernel_constraint': None,\n",
       "    'bias_constraint': None}},\n",
       "  {'class_name': 'Dense',\n",
       "   'config': {'name': 'dense_1',\n",
       "    'trainable': True,\n",
       "    'dtype': 'float32',\n",
       "    'units': 4,\n",
       "    'activation': 'relu',\n",
       "    'use_bias': True,\n",
       "    'kernel_initializer': {'class_name': 'Zeros', 'config': {}},\n",
       "    'bias_initializer': {'class_name': 'Zeros', 'config': {}},\n",
       "    'kernel_regularizer': None,\n",
       "    'bias_regularizer': None,\n",
       "    'activity_regularizer': None,\n",
       "    'kernel_constraint': None,\n",
       "    'bias_constraint': None}}]}"
      ]
     },
     "execution_count": 19,
     "metadata": {},
     "output_type": "execute_result"
    }
   ],
   "source": [
    "model.get_config()"
   ]
  },
  {
   "cell_type": "code",
   "execution_count": 20,
   "id": "7f5b5ddf",
   "metadata": {},
   "outputs": [
    {
     "name": "stdout",
     "output_type": "stream",
     "text": [
      "Model: \"sequential\"\n",
      "_________________________________________________________________\n",
      "Layer (type)                 Output Shape              Param #   \n",
      "=================================================================\n",
      "dense (Dense)                (None, 4)                 36        \n",
      "_________________________________________________________________\n",
      "dense_1 (Dense)              (None, 4)                 20        \n",
      "=================================================================\n",
      "Total params: 56\n",
      "Trainable params: 56\n",
      "Non-trainable params: 0\n",
      "_________________________________________________________________\n"
     ]
    }
   ],
   "source": [
    "#Now as you can see now we have 20 parameter: 1 bias everyone has + 4*4: 4+16 = 20\n",
    "model.summary()"
   ]
  },
  {
   "cell_type": "code",
   "execution_count": 21,
   "id": "fae0588f",
   "metadata": {},
   "outputs": [],
   "source": [
    "#We used sigmoid as we want the output in 0 or 1\n",
    "model.add(Dense(units=1,activation=\"sigmoid\",bias_initializer=\"zeros\",kernel_initializer=\"zeros\"))"
   ]
  },
  {
   "cell_type": "code",
   "execution_count": 22,
   "id": "b803a594",
   "metadata": {},
   "outputs": [
    {
     "name": "stdout",
     "output_type": "stream",
     "text": [
      "Model: \"sequential\"\n",
      "_________________________________________________________________\n",
      "Layer (type)                 Output Shape              Param #   \n",
      "=================================================================\n",
      "dense (Dense)                (None, 4)                 36        \n",
      "_________________________________________________________________\n",
      "dense_1 (Dense)              (None, 4)                 20        \n",
      "_________________________________________________________________\n",
      "dense_2 (Dense)              (None, 1)                 5         \n",
      "=================================================================\n",
      "Total params: 61\n",
      "Trainable params: 61\n",
      "Non-trainable params: 0\n",
      "_________________________________________________________________\n"
     ]
    }
   ],
   "source": [
    "model.summary()"
   ]
  },
  {
   "cell_type": "code",
   "execution_count": 28,
   "id": "acb0c3c1",
   "metadata": {},
   "outputs": [],
   "source": [
    "#In order to create model we have to compile it\n",
    "model.compile(optimizer=\"adam\",loss=\"binary_crossentropy\")"
   ]
  },
  {
   "cell_type": "code",
   "execution_count": 29,
   "id": "6107a39a",
   "metadata": {},
   "outputs": [
    {
     "name": "stdout",
     "output_type": "stream",
     "text": [
      "Epoch 1/100\n",
      "24/24 [==============================] - 1s 953us/step - loss: 0.6485\n",
      "Epoch 2/100\n",
      "24/24 [==============================] - 0s 980us/step - loss: 0.6522\n",
      "Epoch 3/100\n",
      "24/24 [==============================] - 0s 824us/step - loss: 0.6296\n",
      "Epoch 4/100\n",
      "24/24 [==============================] - 0s 898us/step - loss: 0.6390\n",
      "Epoch 5/100\n",
      "24/24 [==============================] - 0s 877us/step - loss: 0.6527\n",
      "Epoch 6/100\n",
      "24/24 [==============================] - 0s 1ms/step - loss: 0.6493\n",
      "Epoch 7/100\n",
      "24/24 [==============================] - 0s 1ms/step - loss: 0.6371\n",
      "Epoch 8/100\n",
      "24/24 [==============================] - ETA: 0s - loss: 0.565 - 0s 1ms/step - loss: 0.6263\n",
      "Epoch 9/100\n",
      "24/24 [==============================] - 0s 1ms/step - loss: 0.6505\n",
      "Epoch 10/100\n",
      "24/24 [==============================] - 0s 1ms/step - loss: 0.6624\n",
      "Epoch 11/100\n",
      "24/24 [==============================] - 0s 909us/step - loss: 0.6353\n",
      "Epoch 12/100\n",
      "24/24 [==============================] - 0s 857us/step - loss: 0.6615\n",
      "Epoch 13/100\n",
      "24/24 [==============================] - 0s 829us/step - loss: 0.6555\n",
      "Epoch 14/100\n",
      "24/24 [==============================] - 0s 886us/step - loss: 0.6587\n",
      "Epoch 15/100\n",
      "24/24 [==============================] - 0s 911us/step - loss: 0.6526\n",
      "Epoch 16/100\n",
      "24/24 [==============================] - 0s 867us/step - loss: 0.6759\n",
      "Epoch 17/100\n",
      "24/24 [==============================] - 0s 952us/step - loss: 0.6390\n",
      "Epoch 18/100\n",
      "24/24 [==============================] - 0s 815us/step - loss: 0.6468\n",
      "Epoch 19/100\n",
      "24/24 [==============================] - 0s 859us/step - loss: 0.6415\n",
      "Epoch 20/100\n",
      "24/24 [==============================] - 0s 901us/step - loss: 0.6531\n",
      "Epoch 21/100\n",
      "24/24 [==============================] - 0s 860us/step - loss: 0.6514\n",
      "Epoch 22/100\n",
      "24/24 [==============================] - 0s 950us/step - loss: 0.6575\n",
      "Epoch 23/100\n",
      "24/24 [==============================] - 0s 874us/step - loss: 0.6403\n",
      "Epoch 24/100\n",
      "24/24 [==============================] - 0s 860us/step - loss: 0.6376\n",
      "Epoch 25/100\n",
      "24/24 [==============================] - 0s 911us/step - loss: 0.6414\n",
      "Epoch 26/100\n",
      "24/24 [==============================] - 0s 997us/step - loss: 0.6410\n",
      "Epoch 27/100\n",
      "24/24 [==============================] - 0s 912us/step - loss: 0.6224\n",
      "Epoch 28/100\n",
      "24/24 [==============================] - 0s 954us/step - loss: 0.6490\n",
      "Epoch 29/100\n",
      "24/24 [==============================] - 0s 880us/step - loss: 0.6402\n",
      "Epoch 30/100\n",
      "24/24 [==============================] - 0s 936us/step - loss: 0.6546\n",
      "Epoch 31/100\n",
      "24/24 [==============================] - 0s 829us/step - loss: 0.6617\n",
      "Epoch 32/100\n",
      "24/24 [==============================] - 0s 954us/step - loss: 0.6531\n",
      "Epoch 33/100\n",
      "24/24 [==============================] - 0s 823us/step - loss: 0.6443\n",
      "Epoch 34/100\n",
      "24/24 [==============================] - 0s 820us/step - loss: 0.6433\n",
      "Epoch 35/100\n",
      "24/24 [==============================] - 0s 908us/step - loss: 0.6237\n",
      "Epoch 36/100\n",
      "24/24 [==============================] - 0s 919us/step - loss: 0.6479\n",
      "Epoch 37/100\n",
      "24/24 [==============================] - 0s 896us/step - loss: 0.6572\n",
      "Epoch 38/100\n",
      "24/24 [==============================] - 0s 934us/step - loss: 0.6409\n",
      "Epoch 39/100\n",
      "24/24 [==============================] - 0s 867us/step - loss: 0.6402\n",
      "Epoch 40/100\n",
      "24/24 [==============================] - 0s 880us/step - loss: 0.6137\n",
      "Epoch 41/100\n",
      "24/24 [==============================] - 0s 877us/step - loss: 0.6416\n",
      "Epoch 42/100\n",
      "24/24 [==============================] - 0s 838us/step - loss: 0.6532\n",
      "Epoch 43/100\n",
      "24/24 [==============================] - 0s 1ms/step - loss: 0.6458\n",
      "Epoch 44/100\n",
      "24/24 [==============================] - 0s 800us/step - loss: 0.6440\n",
      "Epoch 45/100\n",
      "24/24 [==============================] - 0s 911us/step - loss: 0.6331\n",
      "Epoch 46/100\n",
      "24/24 [==============================] - 0s 934us/step - loss: 0.6393\n",
      "Epoch 47/100\n",
      "24/24 [==============================] - 0s 896us/step - loss: 0.6667\n",
      "Epoch 48/100\n",
      "24/24 [==============================] - 0s 912us/step - loss: 0.6464\n",
      "Epoch 49/100\n",
      "24/24 [==============================] - 0s 817us/step - loss: 0.6381\n",
      "Epoch 50/100\n",
      "24/24 [==============================] - 0s 929us/step - loss: 0.6539\n",
      "Epoch 51/100\n",
      "24/24 [==============================] - 0s 959us/step - loss: 0.6408\n",
      "Epoch 52/100\n",
      "24/24 [==============================] - 0s 867us/step - loss: 0.6447\n",
      "Epoch 53/100\n",
      "24/24 [==============================] - 0s 1ms/step - loss: 0.6462\n",
      "Epoch 54/100\n",
      "24/24 [==============================] - 0s 886us/step - loss: 0.6479\n",
      "Epoch 55/100\n",
      "24/24 [==============================] - 0s 836us/step - loss: 0.6378\n",
      "Epoch 56/100\n",
      "24/24 [==============================] - 0s 852us/step - loss: 0.6319\n",
      "Epoch 57/100\n",
      "24/24 [==============================] - 0s 881us/step - loss: 0.6388\n",
      "Epoch 58/100\n",
      "24/24 [==============================] - 0s 865us/step - loss: 0.6473\n",
      "Epoch 59/100\n",
      "24/24 [==============================] - 0s 1ms/step - loss: 0.6507\n",
      "Epoch 60/100\n",
      "24/24 [==============================] - 0s 946us/step - loss: 0.6452\n",
      "Epoch 61/100\n",
      "24/24 [==============================] - 0s 868us/step - loss: 0.6542\n",
      "Epoch 62/100\n",
      "24/24 [==============================] - 0s 867us/step - loss: 0.6467\n",
      "Epoch 63/100\n",
      "24/24 [==============================] - 0s 979us/step - loss: 0.6472\n",
      "Epoch 64/100\n",
      "24/24 [==============================] - 0s 996us/step - loss: 0.6431\n",
      "Epoch 65/100\n",
      "24/24 [==============================] - 0s 824us/step - loss: 0.6618\n",
      "Epoch 66/100\n",
      "24/24 [==============================] - 0s 884us/step - loss: 0.6252\n",
      "Epoch 67/100\n",
      "24/24 [==============================] - 0s 806us/step - loss: 0.6474\n",
      "Epoch 68/100\n",
      "24/24 [==============================] - 0s 884us/step - loss: 0.6669\n",
      "Epoch 69/100\n",
      "24/24 [==============================] - 0s 912us/step - loss: 0.6578\n",
      "Epoch 70/100\n",
      "24/24 [==============================] - 0s 828us/step - loss: 0.6375\n",
      "Epoch 71/100\n",
      "24/24 [==============================] - 0s 870us/step - loss: 0.6452\n",
      "Epoch 72/100\n",
      "24/24 [==============================] - 0s 994us/step - loss: 0.6495\n",
      "Epoch 73/100\n",
      "24/24 [==============================] - 0s 833us/step - loss: 0.6545\n",
      "Epoch 74/100\n",
      "24/24 [==============================] - 0s 813us/step - loss: 0.6401\n",
      "Epoch 75/100\n",
      "24/24 [==============================] - 0s 891us/step - loss: 0.6422\n",
      "Epoch 76/100\n",
      "24/24 [==============================] - 0s 834us/step - loss: 0.6364\n",
      "Epoch 77/100\n",
      "24/24 [==============================] - 0s 892us/step - loss: 0.6401\n",
      "Epoch 78/100\n",
      "24/24 [==============================] - 0s 869us/step - loss: 0.6515\n",
      "Epoch 79/100\n",
      "24/24 [==============================] - 0s 1ms/step - loss: 0.6455\n",
      "Epoch 80/100\n",
      "24/24 [==============================] - 0s 910us/step - loss: 0.6368\n",
      "Epoch 81/100\n",
      "24/24 [==============================] - 0s 819us/step - loss: 0.6622\n",
      "Epoch 82/100\n",
      "24/24 [==============================] - 0s 873us/step - loss: 0.6495\n",
      "Epoch 83/100\n",
      "24/24 [==============================] - 0s 891us/step - loss: 0.6387\n",
      "Epoch 84/100\n",
      "24/24 [==============================] - 0s 824us/step - loss: 0.6381\n",
      "Epoch 85/100\n",
      "24/24 [==============================] - 0s 1ms/step - loss: 0.6484\n",
      "Epoch 86/100\n",
      "24/24 [==============================] - 0s 871us/step - loss: 0.6417\n",
      "Epoch 87/100\n",
      "24/24 [==============================] - 0s 824us/step - loss: 0.6376\n",
      "Epoch 88/100\n",
      "24/24 [==============================] - 0s 824us/step - loss: 0.6408\n",
      "Epoch 89/100\n",
      "24/24 [==============================] - 0s 842us/step - loss: 0.6420\n",
      "Epoch 90/100\n",
      "24/24 [==============================] - 0s 824us/step - loss: 0.6652\n",
      "Epoch 91/100\n",
      "24/24 [==============================] - 0s 875us/step - loss: 0.6387\n",
      "Epoch 92/100\n",
      "24/24 [==============================] - ETA: 0s - loss: 0.624 - 0s 867us/step - loss: 0.6504\n",
      "Epoch 93/100\n",
      "24/24 [==============================] - 0s 911us/step - loss: 0.6489\n",
      "Epoch 94/100\n",
      "24/24 [==============================] - 0s 911us/step - loss: 0.6390\n",
      "Epoch 95/100\n",
      "24/24 [==============================] - 0s 865us/step - loss: 0.6279\n",
      "Epoch 96/100\n",
      "24/24 [==============================] - 0s 969us/step - loss: 0.6459\n",
      "Epoch 97/100\n",
      "24/24 [==============================] - 0s 859us/step - loss: 0.6577\n",
      "Epoch 98/100\n",
      "24/24 [==============================] - ETA: 0s - loss: 0.643 - 0s 752us/step - loss: 0.6494\n",
      "Epoch 99/100\n"
     ]
    },
    {
     "name": "stdout",
     "output_type": "stream",
     "text": [
      "24/24 [==============================] - 0s 924us/step - loss: 0.6444\n",
      "Epoch 100/100\n",
      "24/24 [==============================] - 0s 901us/step - loss: 0.6543\n"
     ]
    },
    {
     "data": {
      "text/plain": [
       "<keras.callbacks.History at 0x180f0f84c10>"
      ]
     },
     "execution_count": 29,
     "metadata": {},
     "output_type": "execute_result"
    }
   ],
   "source": [
    "#epochs=100 it means how many times model will go back to reduce the loss\n",
    "model.fit(X,y,epochs=100)"
   ]
  },
  {
   "cell_type": "code",
   "execution_count": null,
   "id": "b2ba9299",
   "metadata": {},
   "outputs": [],
   "source": []
  },
  {
   "cell_type": "code",
   "execution_count": null,
   "id": "4beac046",
   "metadata": {},
   "outputs": [],
   "source": []
  }
 ],
 "metadata": {
  "kernelspec": {
   "display_name": "Python 3",
   "language": "python",
   "name": "python3"
  },
  "language_info": {
   "codemirror_mode": {
    "name": "ipython",
    "version": 3
   },
   "file_extension": ".py",
   "mimetype": "text/x-python",
   "name": "python",
   "nbconvert_exporter": "python",
   "pygments_lexer": "ipython3",
   "version": "3.8.8"
  }
 },
 "nbformat": 4,
 "nbformat_minor": 5
}
