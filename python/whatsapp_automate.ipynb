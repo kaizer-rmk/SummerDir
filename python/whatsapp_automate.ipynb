{
 "cells": [
  {
   "cell_type": "code",
   "execution_count": 12,
   "id": "7fd52987",
   "metadata": {},
   "outputs": [],
   "source": [
    "# importing the module\n",
    "import pywhatkit\n",
    "from keyboard import press\n",
    "import datetime\n"
   ]
  },
  {
   "cell_type": "code",
   "execution_count": 16,
   "id": "b7c7e490",
   "metadata": {},
   "outputs": [
    {
     "name": "stdout",
     "output_type": "stream",
     "text": [
      "23\n",
      "16\n",
      "In 40 seconds web.whatsapp.com will open and after 20 seconds message will be delivered\n",
      "Successfully Sent!\n"
     ]
    }
   ],
   "source": [
    "try:\n",
    "    now = datetime.datetime.now()\n",
    "    hr = int(now.strftime(\"%H\"))\n",
    "    print(hr)\n",
    "    min = int(now.strftime(\"%M\")) + 1\n",
    "    print(min)\n",
    "    pywhatkit.sendwhatmsg(\"+919518529031\", \"Testing\",hr,min)\n",
    "    press('enter')\n",
    "    print(\"Successfully Sent!\")\n",
    "  \n",
    "except:\n",
    "  print(\"An Unexpected Error!\")"
   ]
  },
  {
   "cell_type": "code",
   "execution_count": 3,
   "id": "986e4103",
   "metadata": {},
   "outputs": [
    {
     "name": "stdout",
     "output_type": "stream",
     "text": [
      "23 10\n"
     ]
    }
   ],
   "source": [
    "import time\n",
    "year, month, day, hour, min = map(int, time.strftime(\"%Y %m %d %H %M\").split())\n",
    "print(hour,min)"
   ]
  }
 ],
 "metadata": {
  "kernelspec": {
   "display_name": "Python 3",
   "language": "python",
   "name": "python3"
  },
  "language_info": {
   "codemirror_mode": {
    "name": "ipython",
    "version": 3
   },
   "file_extension": ".py",
   "mimetype": "text/x-python",
   "name": "python",
   "nbconvert_exporter": "python",
   "pygments_lexer": "ipython3",
   "version": "3.8.8"
  }
 },
 "nbformat": 4,
 "nbformat_minor": 5
}
