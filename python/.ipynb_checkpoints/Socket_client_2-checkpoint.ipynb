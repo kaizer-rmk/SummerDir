{
 "cells": [
  {
   "cell_type": "code",
   "execution_count": 1,
   "id": "53fe46db",
   "metadata": {},
   "outputs": [],
   "source": [
    "import socket\n",
    "# s = socket.socket()\n",
    "# serverip = \"192.168.225.54\"\n",
    "# serverport = 2222\n",
    "# s.connect( (serverip,serverport) )\n",
    "# s.recv(100)\n",
    "# s.send(b\"I m client A\")"
   ]
  },
  {
   "cell_type": "code",
   "execution_count": 2,
   "id": "8a28bf7b",
   "metadata": {},
   "outputs": [],
   "source": []
  },
  {
   "cell_type": "code",
   "execution_count": 3,
   "id": "47d20d5d",
   "metadata": {},
   "outputs": [],
   "source": []
  },
  {
   "cell_type": "code",
   "execution_count": null,
   "id": "70141152",
   "metadata": {},
   "outputs": [],
   "source": []
  }
 ],
 "metadata": {
  "kernelspec": {
   "display_name": "Python 3",
   "language": "python",
   "name": "python3"
  },
  "language_info": {
   "codemirror_mode": {
    "name": "ipython",
    "version": 3
   },
   "file_extension": ".py",
   "mimetype": "text/x-python",
   "name": "python",
   "nbconvert_exporter": "python",
   "pygments_lexer": "ipython3",
   "version": "3.8.8"
  }
 },
 "nbformat": 4,
 "nbformat_minor": 5
}
