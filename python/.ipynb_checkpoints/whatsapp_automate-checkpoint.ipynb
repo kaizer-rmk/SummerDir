{
 "cells": [
  {
   "cell_type": "code",
   "execution_count": 1,
   "id": "7fd52987",
   "metadata": {},
   "outputs": [],
   "source": [
    "# importing the module\n",
    "import pywhatkit"
   ]
  },
  {
   "cell_type": "code",
   "execution_count": 5,
   "id": "b7c7e490",
   "metadata": {},
   "outputs": [
    {
     "name": "stdout",
     "output_type": "stream",
     "text": [
      "An Unexpected Error!\n"
     ]
    }
   ],
   "source": [
    "try:\n",
    "    \n",
    "  # sending message to reciever\n",
    "  # using pywhatkit\n",
    "  pywhatkit.sendwhatmsg(\"+917089155186\", \"Hello from WhatsApp Testing\",17,22,30)\n",
    "  print(\"Successfully Sent!\")\n",
    "  \n",
    "except:\n",
    "    \n",
    "  # handling exception \n",
    "  # and printing error message\n",
    "  print(\"An Unexpected Error!\")"
   ]
  },
  {
   "cell_type": "code",
   "execution_count": 3,
   "id": "986e4103",
   "metadata": {},
   "outputs": [
    {
     "name": "stdout",
     "output_type": "stream",
     "text": [
      "17 20\n"
     ]
    }
   ],
   "source": [
    "import time\n",
    "year, month, day, hour, min = map(int, time.strftime(\"%Y %m %d %H %M\").split())\n",
    "print(hour,min)"
   ]
  }
 ],
 "metadata": {
  "kernelspec": {
   "display_name": "Python 3",
   "language": "python",
   "name": "python3"
  },
  "language_info": {
   "codemirror_mode": {
    "name": "ipython",
    "version": 3
   },
   "file_extension": ".py",
   "mimetype": "text/x-python",
   "name": "python",
   "nbconvert_exporter": "python",
   "pygments_lexer": "ipython3",
   "version": "3.8.8"
  }
 },
 "nbformat": 4,
 "nbformat_minor": 5
}
