{
 "cells": [
  {
   "cell_type": "code",
   "execution_count": 10,
   "id": "53fe46db",
   "metadata": {},
   "outputs": [
    {
     "name": "stdout",
     "output_type": "stream",
     "text": [
      "b'i m server'\n"
     ]
    },
    {
     "data": {
      "text/plain": [
       "12"
      ]
     },
     "execution_count": 10,
     "metadata": {},
     "output_type": "execute_result"
    }
   ],
   "source": [
    "import socket\n",
    "s = socket.socket()\n",
    "serverip = \"192.168.225.31\"\n",
    "serverport = 2222\n",
    "s.connect( (serverip,serverport) )\n",
    "\n",
    "print(s.recv(100))\n",
    "s.send(b\"i m client B\")"
   ]
  },
  {
   "cell_type": "code",
   "execution_count": 11,
   "id": "8a28bf7b",
   "metadata": {},
   "outputs": [
    {
     "data": {
      "text/plain": [
       "12"
      ]
     },
     "execution_count": 11,
     "metadata": {},
     "output_type": "execute_result"
    }
   ],
   "source": [
    "s.send(b\"i m client B\")"
   ]
  },
  {
   "cell_type": "code",
   "execution_count": 3,
   "id": "47d20d5d",
   "metadata": {},
   "outputs": [],
   "source": []
  },
  {
   "cell_type": "code",
   "execution_count": null,
   "id": "70141152",
   "metadata": {},
   "outputs": [],
   "source": []
  }
 ],
 "metadata": {
  "kernelspec": {
   "display_name": "Python 3",
   "language": "python",
   "name": "python3"
  },
  "language_info": {
   "codemirror_mode": {
    "name": "ipython",
    "version": 3
   },
   "file_extension": ".py",
   "mimetype": "text/x-python",
   "name": "python",
   "nbconvert_exporter": "python",
   "pygments_lexer": "ipython3",
   "version": "3.8.8"
  }
 },
 "nbformat": 4,
 "nbformat_minor": 5
}
