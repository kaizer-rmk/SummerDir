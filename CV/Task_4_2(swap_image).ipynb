{
 "cells": [
  {
   "cell_type": "code",
   "execution_count": 1,
   "id": "1db2ff32",
   "metadata": {},
   "outputs": [],
   "source": [
    "import cv2\n",
    "import numpy as np"
   ]
  },
  {
   "cell_type": "code",
   "execution_count": 2,
   "id": "681b7be6",
   "metadata": {},
   "outputs": [
    {
     "data": {
      "text/plain": [
       "(404, 404, 3)"
      ]
     },
     "execution_count": 2,
     "metadata": {},
     "output_type": "execute_result"
    }
   ],
   "source": [
    "#Store 1st image to variable with same dimention\n",
    "img1 = cv2.imread(\"img1.png\")[0:404,0:404]\n",
    "img1.shape"
   ]
  },
  {
   "cell_type": "code",
   "execution_count": 3,
   "id": "581dddf8",
   "metadata": {},
   "outputs": [
    {
     "data": {
      "text/plain": [
       "(404, 404, 3)"
      ]
     },
     "execution_count": 3,
     "metadata": {},
     "output_type": "execute_result"
    }
   ],
   "source": [
    "#Store 2nd image to variable with same dimention\n",
    "img2 = cv2.imread(\"img2.png\")[0:404,0:404]\n",
    "img2.shape"
   ]
  },
  {
   "cell_type": "code",
   "execution_count": 4,
   "id": "23cacdd6",
   "metadata": {},
   "outputs": [
    {
     "data": {
      "text/plain": [
       "(404, 404, 3)"
      ]
     },
     "execution_count": 4,
     "metadata": {},
     "output_type": "execute_result"
    }
   ],
   "source": [
    "img2.shape"
   ]
  },
  {
   "cell_type": "code",
   "execution_count": 5,
   "id": "7bdd2684",
   "metadata": {},
   "outputs": [
    {
     "name": "stdout",
     "output_type": "stream",
     "text": [
      "(404, 808, 3)\n"
     ]
    },
    {
     "data": {
      "text/plain": [
       "-1"
      ]
     },
     "execution_count": 5,
     "metadata": {},
     "output_type": "execute_result"
    }
   ],
   "source": [
    "#Stack the image\n",
    "prev = np.hstack((img1,img2))\n",
    "print(prev.shape)\n",
    "cv2.imshow(\"Before\",prev)\n",
    "cv2.waitKey(0)"
   ]
  },
  {
   "cell_type": "code",
   "execution_count": 6,
   "id": "a464feac",
   "metadata": {},
   "outputs": [],
   "source": [
    "# Now we swap these part:\n",
    "\n",
    "img1[0:200,150:400] = img1[0:200,150:400]+img2[0:200,150:400]\n",
    "img2[0:200,150:400]= img1[0:200,150:400]-img2[0:200,150:400]\n",
    "img1[0:200,150:400] = img1[0:200,150:400]-img2[0:200,150:400]\n",
    "\n"
   ]
  },
  {
   "cell_type": "code",
   "execution_count": 7,
   "id": "b566f89f",
   "metadata": {},
   "outputs": [],
   "source": [
    "#Stack Both Image\n",
    "after = np.hstack((img1,img2))"
   ]
  },
  {
   "cell_type": "code",
   "execution_count": 8,
   "id": "62a9fc74",
   "metadata": {},
   "outputs": [
    {
     "data": {
      "text/plain": [
       "-1"
      ]
     },
     "execution_count": 8,
     "metadata": {},
     "output_type": "execute_result"
    }
   ],
   "source": [
    "#Display Images\n",
    "cv2.imshow(\"Before\",prev)\n",
    "#Display the Image\n",
    "cv2.imshow(\"Aft\",after)\n",
    "cv2.waitKey(0)"
   ]
  },
  {
   "cell_type": "code",
   "execution_count": null,
   "id": "d4b57177",
   "metadata": {},
   "outputs": [],
   "source": [
    "\n"
   ]
  },
  {
   "cell_type": "code",
   "execution_count": null,
   "id": "5b30cec5",
   "metadata": {},
   "outputs": [],
   "source": []
  },
  {
   "cell_type": "code",
   "execution_count": null,
   "id": "7ba837c9",
   "metadata": {},
   "outputs": [],
   "source": []
  }
 ],
 "metadata": {
  "kernelspec": {
   "display_name": "Python 3",
   "language": "python",
   "name": "python3"
  },
  "language_info": {
   "codemirror_mode": {
    "name": "ipython",
    "version": 3
   },
   "file_extension": ".py",
   "mimetype": "text/x-python",
   "name": "python",
   "nbconvert_exporter": "python",
   "pygments_lexer": "ipython3",
   "version": "3.8.8"
  }
 },
 "nbformat": 4,
 "nbformat_minor": 5
}
