{
 "cells": [
  {
   "cell_type": "code",
   "execution_count": 6,
   "id": "8cd5e60a",
   "metadata": {},
   "outputs": [],
   "source": [
    "import cv2\n",
    "import numpy as np"
   ]
  },
  {
   "cell_type": "code",
   "execution_count": 28,
   "id": "91786292",
   "metadata": {},
   "outputs": [
    {
     "data": {
      "text/plain": [
       "(590, 590, 3)"
      ]
     },
     "execution_count": 28,
     "metadata": {},
     "output_type": "execute_result"
    }
   ],
   "source": [
    "#Store 1st image to variable with same dimention\n",
    "img1 = cv2.imread(\"dp.jpg\")[10:600,10:600]\n",
    "img1.shape"
   ]
  },
  {
   "cell_type": "code",
   "execution_count": 29,
   "id": "da2cdb32",
   "metadata": {},
   "outputs": [
    {
     "data": {
      "text/plain": [
       "(590, 590, 3)"
      ]
     },
     "execution_count": 29,
     "metadata": {},
     "output_type": "execute_result"
    }
   ],
   "source": [
    "#Store 2nd image to variable with same dimention\n",
    "img2 = cv2.imread(\"pp.png\")[10:600,10:600]\n",
    "img2.shape"
   ]
  },
  {
   "cell_type": "code",
   "execution_count": 30,
   "id": "133fdfa9",
   "metadata": {},
   "outputs": [],
   "source": [
    "#Now all we need to do is with the help of numpy we stack both the images\n",
    "#Horizontal Stack\n",
    "hor = np.hstack((img1,img2))\n",
    "#Vertical Stack\n",
    "ver = np.vstack((img1,img2))"
   ]
  },
  {
   "cell_type": "code",
   "execution_count": 24,
   "id": "79682b04",
   "metadata": {},
   "outputs": [
    {
     "data": {
      "text/plain": [
       "-1"
      ]
     },
     "execution_count": 24,
     "metadata": {},
     "output_type": "execute_result"
    }
   ],
   "source": [
    "#Display Images\n",
    "cv2.imshow(\"Horizontal\",hor)\n",
    "cv2.imshow(\"Vertical\",ver)\n",
    "cv2.waitKey(0)"
   ]
  }
 ],
 "metadata": {
  "kernelspec": {
   "display_name": "Python 3",
   "language": "python",
   "name": "python3"
  },
  "language_info": {
   "codemirror_mode": {
    "name": "ipython",
    "version": 3
   },
   "file_extension": ".py",
   "mimetype": "text/x-python",
   "name": "python",
   "nbconvert_exporter": "python",
   "pygments_lexer": "ipython3",
   "version": "3.8.8"
  }
 },
 "nbformat": 4,
 "nbformat_minor": 5
}
