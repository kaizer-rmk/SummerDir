{
 "cells": [
  {
   "cell_type": "code",
   "execution_count": 1,
   "id": "d48b834d",
   "metadata": {},
   "outputs": [],
   "source": [
    "import cv2\n",
    "import smtplib\n",
    "import numpy as np"
   ]
  },
  {
   "cell_type": "code",
   "execution_count": 2,
   "id": "de3bf1f0",
   "metadata": {},
   "outputs": [],
   "source": [
    "def mail():\n",
    "    s = smtplib.SMTP('smtp.gmail.com', 587)\n",
    "    s.starttls()\n",
    "    s.login(\"mukesh.india9991\", \"password\")\n",
    "    message = \"Captured someone in the camera....\"\n",
    "    s.sendmail(\"mukesh.india9991@gmail.com\", \"mukesh.rmk2001@gmail.com\", message)\n",
    "    s.quit()"
   ]
  },
  {
   "cell_type": "code",
   "execution_count": null,
   "id": "b9d250e6",
   "metadata": {},
   "outputs": [],
   "source": []
  },
  {
   "cell_type": "code",
   "execution_count": 3,
   "id": "f87f10b3",
   "metadata": {},
   "outputs": [],
   "source": [
    "cap = cv2.VideoCapture(0)"
   ]
  },
  {
   "cell_type": "code",
   "execution_count": 4,
   "id": "10ed6257",
   "metadata": {},
   "outputs": [],
   "source": [
    "model = cv2.CascadeClassifier(\"haarcascade_frontalface_default.xml\")"
   ]
  },
  {
   "cell_type": "code",
   "execution_count": 5,
   "id": "662fb9c1",
   "metadata": {},
   "outputs": [
    {
     "data": {
      "text/plain": [
       "<function destroyAllWindows>"
      ]
     },
     "execution_count": 5,
     "metadata": {},
     "output_type": "execute_result"
    }
   ],
   "source": [
    "a=0\n",
    "while True:\n",
    "    ret , photo = cap.read()\n",
    "    faces = model.detectMultiScale(photo)\n",
    "    if len(faces) == 0:\n",
    "        pass\n",
    "    else:   \n",
    "        for i in range(len(faces)):\n",
    "                x1 = faces[i][0]\n",
    "                y1 = faces[i][1]\n",
    "                x2 = x1 + faces[i][2]\n",
    "                y2 = y1 + faces[i][3]\n",
    "        \n",
    "                rphoto = cv2.rectangle(photo, (x1,y1) , (x2,y2), [0,255,0], )\n",
    "                cv2.imshow(\"Capturing....\", rphoto)\n",
    "                \n",
    "                a=a+1\n",
    "                if a==1:\n",
    "                    mail()\n",
    "                    \n",
    "        if cv2.waitKey(10) & 0xFF==ord('q'):\n",
    "                break\n",
    "cv2.destroyAllWindows  "
   ]
  },
  {
   "cell_type": "code",
   "execution_count": 8,
   "id": "3ee9d69b",
   "metadata": {},
   "outputs": [],
   "source": [
    "cap.release()"
   ]
  },
  {
   "cell_type": "code",
   "execution_count": 7,
   "id": "24390226",
   "metadata": {},
   "outputs": [],
   "source": [
    "# Need to enable it for mail \n",
    "# https://myaccount.google.com/lesssecureapps?pli=1&rapt=AEjHL4M5NQx9ygzKY4j97NvrKYF1XjgprSQgDgioZ-E090hTDo5BLEm2bEdl9UNmgY6LAkpfX8cisp4BOSvrFRKvIFBYujb6Zw"
   ]
  }
 ],
 "metadata": {
  "kernelspec": {
   "display_name": "Python 3",
   "language": "python",
   "name": "python3"
  },
  "language_info": {
   "codemirror_mode": {
    "name": "ipython",
    "version": 3
   },
   "file_extension": ".py",
   "mimetype": "text/x-python",
   "name": "python",
   "nbconvert_exporter": "python",
   "pygments_lexer": "ipython3",
   "version": "3.8.8"
  }
 },
 "nbformat": 4,
 "nbformat_minor": 5
}
