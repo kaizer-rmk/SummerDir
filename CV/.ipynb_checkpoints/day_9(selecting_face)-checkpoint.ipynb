{
 "cells": [
  {
   "cell_type": "code",
   "execution_count": 12,
   "id": "38d5beb5",
   "metadata": {},
   "outputs": [],
   "source": [
    "import cv2\n",
    "import numpy as np"
   ]
  },
  {
   "cell_type": "code",
   "execution_count": 13,
   "id": "5fcb9b38",
   "metadata": {},
   "outputs": [],
   "source": [
    "photo = cv2.imread(\"dp.jpg\")"
   ]
  },
  {
   "cell_type": "code",
   "execution_count": 3,
   "id": "1d9d3728",
   "metadata": {},
   "outputs": [
    {
     "data": {
      "text/plain": [
       "(809, 810, 3)"
      ]
     },
     "execution_count": 3,
     "metadata": {},
     "output_type": "execute_result"
    }
   ],
   "source": [
    "# photo.shape"
   ]
  },
  {
   "cell_type": "code",
   "execution_count": 14,
   "id": "c6ae3936",
   "metadata": {},
   "outputs": [
    {
     "data": {
      "text/plain": [
       "-1"
      ]
     },
     "execution_count": 14,
     "metadata": {},
     "output_type": "execute_result"
    }
   ],
   "source": [
    "cv2.imshow(\"My Picture\",photo)\n",
    "cv2.waitKey(0)"
   ]
  },
  {
   "cell_type": "code",
   "execution_count": 5,
   "id": "59895f51",
   "metadata": {},
   "outputs": [],
   "source": [
    "cap = cv2.VideoCapture(0)"
   ]
  },
  {
   "cell_type": "code",
   "execution_count": 15,
   "id": "b98f72a5",
   "metadata": {},
   "outputs": [],
   "source": [
    "model = cv2.CascadeClassifier(\"haarcascade_frontalface_default.xml\")"
   ]
  },
  {
   "cell_type": "code",
   "execution_count": 19,
   "id": "1cae43da",
   "metadata": {},
   "outputs": [
    {
     "name": "stdout",
     "output_type": "stream",
     "text": [
      "[[280 120 203 203]\n",
      " [234 470  27  27]]\n"
     ]
    },
    {
     "data": {
      "text/plain": [
       "-1"
      ]
     },
     "execution_count": 19,
     "metadata": {},
     "output_type": "execute_result"
    }
   ],
   "source": [
    "faces = model.detectMultiScale(photo)\n",
    "print(faces)\n",
    "x1 = faces[0][0]\n",
    "y1 = faces[0][1]\n",
    "x2 = x1 + faces[0][2]\n",
    "y2 = y1 + faces[0][3]\n",
    "rphoto = cv2.rectangle(photo,(x1,y1),(x2,y2),[0,255,0],3)\n",
    "cv2.imshow(\"My Picture\",rphoto)\n",
    "cv2.waitKey(0)"
   ]
  },
  {
   "cell_type": "code",
   "execution_count": 8,
   "id": "d417d712",
   "metadata": {},
   "outputs": [],
   "source": [
    "# while True:\n",
    "#     ret,photo = cap.read()\n",
    "#     faces = model.detectMultiScale(photo)\n",
    "#     if len(faces) == 0:\n",
    "#         pass\n",
    "#     else:\n",
    "#         x1 = faces[0][0]\n",
    "#         y1 = faces[0][1]\n",
    "#         x2 = x1 + faces[0][2]\n",
    "#         y2 = y1 + faces[0][3]\n",
    "#         rphoto = cv2.rectangle(photo,(x1,y1),(x2,y2),[0,255,0],3)\n",
    "#         cv2.imshow(\"My picture\",rphoto)\n",
    "#         if cv2.waitKey(10) & 0xFF==ord('q'):\n",
    "#             break\n",
    "# cv2.destroyAllWindows()"
   ]
  },
  {
   "cell_type": "code",
   "execution_count": 9,
   "id": "941843c0",
   "metadata": {},
   "outputs": [],
   "source": [
    "cap.release()"
   ]
  },
  {
   "cell_type": "code",
   "execution_count": null,
   "id": "4f8c9cb2",
   "metadata": {},
   "outputs": [],
   "source": []
  },
  {
   "cell_type": "code",
   "execution_count": null,
   "id": "ef55e8ce",
   "metadata": {},
   "outputs": [],
   "source": []
  },
  {
   "cell_type": "code",
   "execution_count": null,
   "id": "861e449d",
   "metadata": {},
   "outputs": [],
   "source": []
  },
  {
   "cell_type": "code",
   "execution_count": null,
   "id": "f1e0b42a",
   "metadata": {},
   "outputs": [],
   "source": []
  }
 ],
 "metadata": {
  "kernelspec": {
   "display_name": "Python 3",
   "language": "python",
   "name": "python3"
  },
  "language_info": {
   "codemirror_mode": {
    "name": "ipython",
    "version": 3
   },
   "file_extension": ".py",
   "mimetype": "text/x-python",
   "name": "python",
   "nbconvert_exporter": "python",
   "pygments_lexer": "ipython3",
   "version": "3.8.8"
  }
 },
 "nbformat": 4,
 "nbformat_minor": 5
}
