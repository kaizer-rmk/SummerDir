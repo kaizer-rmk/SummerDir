{
 "cells": [
  {
   "cell_type": "code",
   "execution_count": 1,
   "id": "5fad6f3d",
   "metadata": {},
   "outputs": [],
   "source": [
    "import cv2\n",
    "import numpy as np"
   ]
  },
  {
   "cell_type": "code",
   "execution_count": 2,
   "id": "81ed252d",
   "metadata": {},
   "outputs": [
    {
     "data": {
      "text/plain": [
       "(404, 404, 3)"
      ]
     },
     "execution_count": 2,
     "metadata": {},
     "output_type": "execute_result"
    }
   ],
   "source": [
    "#Store 1st image to variable with same dimention\n",
    "img1 = cv2.imread(\"img1.png\")[0:404,0:404]\n",
    "img1.shape"
   ]
  },
  {
   "cell_type": "code",
   "execution_count": 3,
   "id": "464925c4",
   "metadata": {},
   "outputs": [
    {
     "data": {
      "text/plain": [
       "(404, 404, 3)"
      ]
     },
     "execution_count": 3,
     "metadata": {},
     "output_type": "execute_result"
    }
   ],
   "source": [
    "#Store 2nd image to variable with same dimention\n",
    "img2 = cv2.imread(\"img2.png\")[0:404,0:404]\n",
    "img2.shape"
   ]
  },
  {
   "cell_type": "code",
   "execution_count": 4,
   "id": "40872099",
   "metadata": {},
   "outputs": [
    {
     "data": {
      "text/plain": [
       "-1"
      ]
     },
     "execution_count": 4,
     "metadata": {},
     "output_type": "execute_result"
    }
   ],
   "source": [
    "#Stack the image\n",
    "prev = np.hstack((img1,img2))\n",
    "#Display Images\n",
    "cv2.imshow(\"Before\",prev)\n",
    "cv2.waitKey(0)"
   ]
  },
  {
   "cell_type": "code",
   "execution_count": null,
   "id": "8e0b9836",
   "metadata": {},
   "outputs": [],
   "source": []
  },
  {
   "cell_type": "code",
   "execution_count": 5,
   "id": "ea56530d",
   "metadata": {},
   "outputs": [
    {
     "data": {
      "text/plain": [
       "-1"
      ]
     },
     "execution_count": 5,
     "metadata": {},
     "output_type": "execute_result"
    }
   ],
   "source": [
    "# cphoto1 = img1[0:200,150:400]\n",
    "# cv2.imshow(\"After\",cphoto1)\n",
    "# cv2.waitKey(0)"
   ]
  },
  {
   "cell_type": "code",
   "execution_count": 6,
   "id": "321fd514",
   "metadata": {},
   "outputs": [
    {
     "data": {
      "text/plain": [
       "-1"
      ]
     },
     "execution_count": 6,
     "metadata": {},
     "output_type": "execute_result"
    }
   ],
   "source": [
    "# cphoto2 = img2[0:200,150:400]\n",
    "# cv2.imshow(\"After\",cphoto2)\n",
    "# cv2.waitKey(0)"
   ]
  },
  {
   "cell_type": "code",
   "execution_count": 7,
   "id": "40bce183",
   "metadata": {},
   "outputs": [
    {
     "name": "stdout",
     "output_type": "stream",
     "text": [
      "1\n"
     ]
    },
    {
     "data": {
      "text/plain": [
       "-1"
      ]
     },
     "execution_count": 7,
     "metadata": {},
     "output_type": "execute_result"
    }
   ],
   "source": [
    "# Now we swap these part:\n",
    "\n",
    "temp = img1[0:200,150:400] \n",
    "img1[0:200,150:400] = img2[0:200,150:400]\n",
    "img2[0:200,150:400] = temp\n",
    "\n",
    "# img1[0:200,150:400] = cphoto2\n",
    "# img2[0:200,150:400] = cphoto1\n",
    "\n",
    "after = np.hstack((img1,img2))\n",
    "\n",
    "cv2.imshow(\"After\",temp)\n",
    "cv2.waitKey(0)"
   ]
  },
  {
   "cell_type": "code",
   "execution_count": 8,
   "id": "b71f3409",
   "metadata": {},
   "outputs": [
    {
     "data": {
      "text/plain": [
       "-1"
      ]
     },
     "execution_count": 8,
     "metadata": {},
     "output_type": "execute_result"
    }
   ],
   "source": [
    "#Display Images\n",
    "cv2.imshow(\"After\",after)\n",
    "cv2.waitKey(0)"
   ]
  },
  {
   "cell_type": "code",
   "execution_count": null,
   "id": "9dc3edf3",
   "metadata": {},
   "outputs": [],
   "source": []
  }
 ],
 "metadata": {
  "kernelspec": {
   "display_name": "Python 3",
   "language": "python",
   "name": "python3"
  },
  "language_info": {
   "codemirror_mode": {
    "name": "ipython",
    "version": 3
   },
   "file_extension": ".py",
   "mimetype": "text/x-python",
   "name": "python",
   "nbconvert_exporter": "python",
   "pygments_lexer": "ipython3",
   "version": "3.8.8"
  }
 },
 "nbformat": 4,
 "nbformat_minor": 5
}
