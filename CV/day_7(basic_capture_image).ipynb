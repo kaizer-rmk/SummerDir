{
 "cells": [
  {
   "cell_type": "code",
   "execution_count": 2,
   "id": "663a4b2f",
   "metadata": {},
   "outputs": [],
   "source": [
    "import cv2"
   ]
  },
  {
   "cell_type": "code",
   "execution_count": 3,
   "id": "e18ea0c2",
   "metadata": {},
   "outputs": [],
   "source": [
    "cap = cv2.VideoCapture(0)"
   ]
  },
  {
   "cell_type": "code",
   "execution_count": 4,
   "id": "6b817a2d",
   "metadata": {},
   "outputs": [],
   "source": [
    "# It invokes the camera and the read function gives 2 value one is boolean (true or false) other is the image\n",
    "ret, img = cap.read()"
   ]
  },
  {
   "cell_type": "code",
   "execution_count": 9,
   "id": "34d99a29",
   "metadata": {},
   "outputs": [
    {
     "data": {
      "text/plain": [
       "array([[[ 73,  64,  37],\n",
       "        [ 59,  51,  24],\n",
       "        [ 41,  37,   9],\n",
       "        ...,\n",
       "        [ 78,  97,  74],\n",
       "        [ 82, 100,  77],\n",
       "        [ 84, 102,  79]],\n",
       "\n",
       "       [[ 71,  63,  37],\n",
       "        [ 58,  51,  25],\n",
       "        [ 40,  37,  10],\n",
       "        ...,\n",
       "        [ 81, 100,  77],\n",
       "        [ 84, 102,  79],\n",
       "        [ 86, 103,  80]],\n",
       "\n",
       "       [[ 69,  63,  37],\n",
       "        [ 57,  52,  26],\n",
       "        [ 41,  39,  12],\n",
       "        ...,\n",
       "        [ 82, 101,  76],\n",
       "        [ 87, 103,  80],\n",
       "        [ 88, 103,  80]],\n",
       "\n",
       "       ...,\n",
       "\n",
       "       [[177, 152,  99],\n",
       "        [171, 147,  94],\n",
       "        [167, 146,  92],\n",
       "        ...,\n",
       "        [ 93,  94,  64],\n",
       "        [ 87,  88,  59],\n",
       "        [ 80,  81,  52]],\n",
       "\n",
       "       [[179, 157, 105],\n",
       "        [175, 153, 101],\n",
       "        [167, 147,  95],\n",
       "        ...,\n",
       "        [ 97, 102,  71],\n",
       "        [ 92,  96,  67],\n",
       "        [ 85,  89,  60]],\n",
       "\n",
       "       [[171, 150,  99],\n",
       "        [169, 149,  98],\n",
       "        [166, 147,  96],\n",
       "        ...,\n",
       "        [ 94, 100,  69],\n",
       "        [ 92,  98,  68],\n",
       "        [ 88,  94,  64]]], dtype=uint8)"
      ]
     },
     "execution_count": 9,
     "metadata": {},
     "output_type": "execute_result"
    }
   ],
   "source": [
    "img"
   ]
  },
  {
   "cell_type": "code",
   "execution_count": 6,
   "id": "67cbd2b0",
   "metadata": {},
   "outputs": [
    {
     "data": {
      "text/plain": [
       "True"
      ]
     },
     "execution_count": 6,
     "metadata": {},
     "output_type": "execute_result"
    }
   ],
   "source": [
    "#This code save the image in the dir.\n",
    "#cv2.imwrite(\"my.jpg\",img)"
   ]
  },
  {
   "cell_type": "code",
   "execution_count": 7,
   "id": "75d30ab8",
   "metadata": {},
   "outputs": [],
   "source": [
    "# It close the camera\n",
    "cap.release()"
   ]
  },
  {
   "cell_type": "code",
   "execution_count": 8,
   "id": "e5acafd6",
   "metadata": {},
   "outputs": [],
   "source": [
    "# It takes 2 parameters 1 is window name and another is the image\n",
    "cv2.imshow(\"My Image\",img)\n",
    "# How log you want to delay the window to open.\n",
    "cv2.waitKey()\n",
    "# This allows us to \n",
    "cv2.destroyAllWindows()"
   ]
  },
  {
   "cell_type": "code",
   "execution_count": null,
   "id": "f2e96ea6",
   "metadata": {},
   "outputs": [],
   "source": []
  }
 ],
 "metadata": {
  "kernelspec": {
   "display_name": "Python 3",
   "language": "python",
   "name": "python3"
  },
  "language_info": {
   "codemirror_mode": {
    "name": "ipython",
    "version": 3
   },
   "file_extension": ".py",
   "mimetype": "text/x-python",
   "name": "python",
   "nbconvert_exporter": "python",
   "pygments_lexer": "ipython3",
   "version": "3.8.8"
  }
 },
 "nbformat": 4,
 "nbformat_minor": 5
}
