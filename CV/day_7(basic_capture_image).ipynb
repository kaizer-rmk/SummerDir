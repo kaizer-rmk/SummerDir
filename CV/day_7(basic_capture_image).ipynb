{
 "cells": [
  {
   "cell_type": "code",
   "execution_count": 10,
   "id": "c099fecc",
   "metadata": {},
   "outputs": [],
   "source": [
    "import cv2"
   ]
  },
  {
   "cell_type": "code",
   "execution_count": 11,
   "id": "c120d6a3",
   "metadata": {},
   "outputs": [],
   "source": [
    "cap = cv2.VideoCapture(0)"
   ]
  },
  {
   "cell_type": "code",
   "execution_count": 12,
   "id": "fe9889c6",
   "metadata": {},
   "outputs": [],
   "source": [
    "# It invokes the camera and the read function gives 2 value one is boolean (true or false) other is the image\n",
    "ret, img = cap.read()"
   ]
  },
  {
   "cell_type": "code",
   "execution_count": 13,
   "id": "8cdb4e89",
   "metadata": {},
   "outputs": [
    {
     "data": {
      "text/plain": [
       "array([[[ 81,  69,  45],\n",
       "        [ 66,  53,  31],\n",
       "        [ 53,  37,  21],\n",
       "        ...,\n",
       "        [ 99,  97,  73],\n",
       "        [100,  97,  76],\n",
       "        [100,  97,  77]],\n",
       "\n",
       "       [[ 79,  69,  45],\n",
       "        [ 66,  54,  32],\n",
       "        [ 52,  37,  21],\n",
       "        ...,\n",
       "        [ 96,  96,  70],\n",
       "        [ 96,  95,  72],\n",
       "        [ 96,  94,  73]],\n",
       "\n",
       "       [[ 76,  70,  45],\n",
       "        [ 63,  56,  33],\n",
       "        [ 50,  39,  22],\n",
       "        ...,\n",
       "        [ 96,  98,  72],\n",
       "        [ 96,  98,  72],\n",
       "        [ 94,  96,  71]],\n",
       "\n",
       "       ...,\n",
       "\n",
       "       [[168, 144,  94],\n",
       "        [175, 151, 101],\n",
       "        [171, 147,  97],\n",
       "        ...,\n",
       "        [100,  88,  56],\n",
       "        [ 99,  86,  55],\n",
       "        [ 99,  84,  54]],\n",
       "\n",
       "       [[181, 155, 106],\n",
       "        [180, 154, 105],\n",
       "        [174, 148,  99],\n",
       "        ...,\n",
       "        [ 98,  89,  56],\n",
       "        [ 98,  87,  56],\n",
       "        [ 98,  87,  56]],\n",
       "\n",
       "       [[171, 143,  95],\n",
       "        [167, 139,  91],\n",
       "        [176, 148, 100],\n",
       "        ...,\n",
       "        [ 99,  90,  57],\n",
       "        [ 98,  88,  57],\n",
       "        [ 98,  88,  57]]], dtype=uint8)"
      ]
     },
     "execution_count": 13,
     "metadata": {},
     "output_type": "execute_result"
    }
   ],
   "source": [
    "img"
   ]
  },
  {
   "cell_type": "code",
   "execution_count": 14,
   "id": "2068a13c",
   "metadata": {},
   "outputs": [],
   "source": [
    "#This code save the image in the dir.\n",
    "#cv2.imwrite(\"my.jpg\",img)"
   ]
  },
  {
   "cell_type": "code",
   "execution_count": 15,
   "id": "c6a9fc32",
   "metadata": {},
   "outputs": [],
   "source": [
    "# It close the camera\n",
    "cap.release()"
   ]
  },
  {
   "cell_type": "code",
   "execution_count": 16,
   "id": "1a2528a1",
   "metadata": {},
   "outputs": [],
   "source": [
    "# It takes 2 parameters 1 is window name and another is the image\n",
    "cv2.imshow(\"My Image\",img)\n",
    "# How log you want to delay the window to open.\n",
    "cv2.waitKey()\n",
    "# This allows us to terminate the window\n",
    "cv2.destroyAllWindows()"
   ]
  },
  {
   "cell_type": "code",
   "execution_count": null,
   "id": "fd270f4f",
   "metadata": {},
   "outputs": [],
   "source": []
  }
 ],
 "metadata": {
  "kernelspec": {
   "display_name": "Python 3",
   "language": "python",
   "name": "python3"
  },
  "language_info": {
   "codemirror_mode": {
    "name": "ipython",
    "version": 3
   },
   "file_extension": ".py",
   "mimetype": "text/x-python",
   "name": "python",
   "nbconvert_exporter": "python",
   "pygments_lexer": "ipython3",
   "version": "3.8.8"
  }
 },
 "nbformat": 4,
 "nbformat_minor": 5
}
