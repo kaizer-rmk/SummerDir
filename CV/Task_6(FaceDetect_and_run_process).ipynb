{
 "cells": [
  {
   "cell_type": "markdown",
   "id": "bd99b0d2",
   "metadata": {},
   "source": [
    "### Step 1 - Create Training Data"
   ]
  },
  {
   "cell_type": "code",
   "execution_count": null,
   "id": "28ce51b2",
   "metadata": {},
   "outputs": [],
   "source": [
    "import cv2\n",
    "import numpy as np"
   ]
  },
  {
   "cell_type": "code",
   "execution_count": null,
   "id": "5e369e11",
   "metadata": {},
   "outputs": [],
   "source": [
    "# Load HAAR face classifier\n",
    "face_classifier = cv2.CascadeClassifier('haarcascade_frontalface_default.xml')"
   ]
  },
  {
   "cell_type": "code",
   "execution_count": null,
   "id": "839fa5da",
   "metadata": {},
   "outputs": [],
   "source": [
    "# Load functions\n",
    "def face_extractor(img):\n",
    "    # Function detects faces and returns the cropped face\n",
    "    # If no face detected, it returns the input image\n",
    "    \n",
    "    gray = cv2.cvtColor(img,cv2.COLOR_BGR2GRAY)\n",
    "    faces = face_classifier.detectMultiScale(gray, 1.3, 5)\n",
    "    \n",
    "    if faces is ():\n",
    "        return None\n",
    "    \n",
    "    # Crop all faces found\n",
    "    for (x,y,w,h) in faces:\n",
    "        cropped_face = img[y:y+h, x:x+w]\n",
    "\n",
    "    return cropped_face"
   ]
  },
  {
   "cell_type": "code",
   "execution_count": null,
   "id": "26ad9df4",
   "metadata": {},
   "outputs": [],
   "source": [
    "# Initialize Webcam\n",
    "cap = cv2.VideoCapture(0)\n",
    "count = 0"
   ]
  },
  {
   "cell_type": "code",
   "execution_count": null,
   "id": "747f84e8",
   "metadata": {},
   "outputs": [],
   "source": [
    "# Collect 100 samples of your face from webcam input\n",
    "# C:\\Users\\mukes\\Pictures\\faces\n",
    "while True:\n",
    "\n",
    "    ret, frame = cap.read()\n",
    "    if face_extractor(frame) is not None:\n",
    "        count += 1\n",
    "        face = cv2.resize(face_extractor(frame), (200, 200))\n",
    "        face = cv2.cvtColor(face, cv2.COLOR_BGR2GRAY)\n",
    "\n",
    "        # Save file in specified directory with unique name\n",
    "        file_name_path = 'C:/Users/mukes/Pictures/faces/user1/' + str(count) + '.jpg'\n",
    "        cv2.imwrite(file_name_path, face)\n",
    "\n",
    "        # Put count on images and display live count\n",
    "        cv2.putText(face, str(count), (50, 50), cv2.FONT_HERSHEY_COMPLEX, 1, (0,255,0), 2)\n",
    "        cv2.imshow('Face Cropper', face)\n",
    "        \n",
    "    else:\n",
    "        print(\"Face not found\")\n",
    "        pass\n",
    "\n",
    "    if cv2.waitKey(1) == 13 or count == 100: #13 is the Enter Key\n",
    "        break\n",
    "        \n",
    "cap.release()\n",
    "cv2.destroyAllWindows()      \n",
    "print(\"Collecting Samples1 Complete\")"
   ]
  },
  {
   "cell_type": "markdown",
   "id": "a9b15f53",
   "metadata": {},
   "source": [
    "### Step 2 - Train Model"
   ]
  },
  {
   "cell_type": "code",
   "execution_count": null,
   "id": "a9b7abee",
   "metadata": {},
   "outputs": [],
   "source": [
    "cap.release()"
   ]
  },
  {
   "cell_type": "code",
   "execution_count": null,
   "id": "4137b225",
   "metadata": {},
   "outputs": [],
   "source": [
    "from os import listdir\n",
    "from os.path import isfile, join"
   ]
  },
  {
   "cell_type": "code",
   "execution_count": null,
   "id": "47402be2",
   "metadata": {},
   "outputs": [],
   "source": [
    "count = 1\n",
    "face_model=[]\n",
    "while True:\n",
    "    # Get the training data we previously made\n",
    "    data_path = 'C:/Users/mukes/Pictures/faces/user'+str(count)+'/'\n",
    "    onlyfiles = [f for f in listdir(data_path) if isfile(join(data_path, f))]\n",
    "\n",
    "    # Create arrays for training data and labels\n",
    "    Training_Data, Labels = [], []\n",
    "\n",
    "    # Open training images in our datapath\n",
    "    # Create a numpy array for training data\n",
    "    for i, files in enumerate(onlyfiles):\n",
    "        image_path = data_path + onlyfiles[i]\n",
    "        images = cv2.imread(image_path, cv2.IMREAD_GRAYSCALE)\n",
    "        Training_Data.append(np.asarray(images, dtype=np.uint8))\n",
    "        Labels.append(i)\n",
    "\n",
    "    # Create a numpy array for both training data and labels\n",
    "    Labels = np.asarray(Labels, dtype=np.int32)\n",
    "\n",
    "    # Initialize facial recognizer\n",
    "    # model = cv2.face.createLBPHFaceRecognizer()\n",
    "    # NOTE: For OpenCV 3.0 use cv2.face.createLBPHFaceRecognizer()\n",
    "    # pip install opencv-contrib-python\n",
    "    # model = cv2.createLBPHFaceRecognizer()\n",
    "\n",
    "    face_model.append(cv2.face_LBPHFaceRecognizer.create()) \n",
    "    # Let's train our model \n",
    "    face_model[count-1].train(np.asarray(Training_Data), np.asarray(Labels))\n",
    "    print(\"Model\"+str(count)+\" trained sucessefully\")\n",
    "    count = count +1\n",
    "    if(count > 5):\n",
    "        break"
   ]
  },
  {
   "cell_type": "markdown",
   "id": "df06064f",
   "metadata": {},
   "source": [
    "### Step 3 - Action To be Performed"
   ]
  },
  {
   "cell_type": "code",
   "execution_count": null,
   "id": "c80b92ee",
   "metadata": {},
   "outputs": [],
   "source": [
    "team_data = [\n",
    "    [\"Mukesh\",\"+91_mobile_no\",\"mail@gmail.com\"],\n",
    "    [\"Lovely\",\"+91_mobile_no\", \"mail@gmail.com\"],\n",
    "    [\"Swati\",\"+91_mobile_no\", \"mail@gmail.com\"],\n",
    "    [\"Harshita\",\"+91_mobile_no\", \"mail@gmail.com\"],\n",
    "    [\"Sunil\",\"+91_mobile_no\", \"mail@gmail.com\"],\n",
    "]\n"
   ]
  },
  {
   "cell_type": "code",
   "execution_count": null,
   "id": "1d8e7314",
   "metadata": {},
   "outputs": [],
   "source": [
    "#Mail\n",
    "import smtplib\n",
    "\n",
    "def mail(i):\n",
    "    try:\n",
    "        s = smtplib.SMTP('smtp.gmail.com', 587)\n",
    "        s.starttls()\n",
    "        s.login(\"sender_username\", \"password\")\n",
    "        message = \"This is face of \"+ team_data[i][0]\n",
    "        s.sendmail(\"sender_email id\",team_data[i][2], message)\n",
    "        print(\"Mail Sent to, \"+ team_data[i][0])\n",
    "        s.quit()\n",
    "    except:\n",
    "      print(\"An Unexpected Error!\")"
   ]
  },
  {
   "cell_type": "code",
   "execution_count": null,
   "id": "e44655e9",
   "metadata": {},
   "outputs": [],
   "source": [
    "# WhatsApp\n",
    "import pywhatkit\n",
    "import datetime\n",
    "\n",
    "def whatsapp(i):\n",
    "    try:\n",
    "        now = datetime.datetime.now()\n",
    "        hr = int(now.strftime(\"%H\"))\n",
    "        min = int(now.strftime(\"%M\")) + 1\n",
    " \n",
    "        pywhatkit.sendwhatmsg(team_data[i][1], \"Hello from WhatsApp Automation\",hr,min)\n",
    "        print(\"Msg Sent to\"+ team_data[i][0])\n",
    "\n",
    "    except:\n",
    "        print(\"An Unexpected Error!\")"
   ]
  },
  {
   "cell_type": "code",
   "execution_count": null,
   "id": "948922d2",
   "metadata": {},
   "outputs": [],
   "source": [
    "# For mail you need to enable this \n",
    "#https://myaccount.google.com/lesssecureapps?pli=1&rapt=AEjHL4M5NQx9ygzKY4j97NvrKYF1XjgprSQgDgioZ-E090hTDo5BLEm2bEdl9UNmgY6LAkpfX8cisp4BOSvrFRKvIFBYujb6Zw"
   ]
  },
  {
   "cell_type": "code",
   "execution_count": null,
   "id": "efbcec2d",
   "metadata": {},
   "outputs": [],
   "source": [
    "import subprocess as sp\n",
    "import time\n",
    "\n",
    "def action_two():\n",
    "    instance_id = sp.getoutput(\"aws ec2 run-instances --image-id <ami-id> --instance-type t2.micro --count 1 --key-name tryaws --subnet-id <subnet-id>  --security-group-ids <sg-id>  --tag-specifications=ResourceType=instance,Tags=[{Key=Name,Value=CV_instances}]  --query Instances[*].[InstanceId] --output text\")\n",
    "    print(\"Instance Created with id:\")\n",
    "    print(instance_id)\n",
    "    vol_id = sp.getoutput(\"aws ec2 create-volume --availability-zone ap-south-1a --size 5 --tag-specifications ResourceType=volume,Tags=[{Key=Name,Value=CV_volume}] --query VolumeId --output text\")\n",
    "    print(\"Volume Created with id:\")\n",
    "    print(vol_id) \n",
    "    time.sleep(10)\n",
    "    sp.getoutput(\"aws ec2 attach-volume --volume-id {} --instance-id {} --dev /dev/sdf\".format(vol_id,instance_id))\n",
    "    print(\"Volume Attached to Instance\")"
   ]
  },
  {
   "cell_type": "markdown",
   "id": "c5df9c98",
   "metadata": {},
   "source": [
    "### Step 4 - Run Our Facial Recognition"
   ]
  },
  {
   "cell_type": "code",
   "execution_count": null,
   "id": "2bed18ea",
   "metadata": {},
   "outputs": [],
   "source": []
  },
  {
   "cell_type": "code",
   "execution_count": null,
   "id": "70d3a09b",
   "metadata": {},
   "outputs": [],
   "source": [
    "import sys"
   ]
  },
  {
   "cell_type": "code",
   "execution_count": null,
   "id": "d2756ae0",
   "metadata": {},
   "outputs": [],
   "source": [
    "def menu(i):\n",
    "    print('''\n",
    "        ================Menu====================\n",
    "        1. Whatsapp\n",
    "        2. Email\n",
    "        3. AWS\n",
    "        ========================================\n",
    "    ''')\n",
    "    inp = int(input(\"Enter Your Choice: \"))\n",
    "    if(inp==1):\n",
    "        whatsapp(i)\n",
    "        sys.exit()\n",
    "    if(inp==2):\n",
    "        mail(i)\n",
    "        sys.exit()\n",
    "    if(inp==3):\n",
    "        action_two()\n",
    "        sys.exit()\n",
    "    else:\n",
    "        print(\"Wrong Input!! Try Again....\")\n",
    "        sys.exit()\n",
    "        "
   ]
  },
  {
   "cell_type": "code",
   "execution_count": null,
   "id": "0d6601e3",
   "metadata": {},
   "outputs": [],
   "source": [
    "# Check Confidence and Display data...\n",
    "def get_confidence(results):\n",
    "    confidence=[]\n",
    "    for i in range(0,5):\n",
    "        if results[i][1] < 500:\n",
    "            confidence.append(int( 100 * (1 - (results[i][1])/400) )) \n",
    "    \n",
    "    for i in range(0,5):\n",
    "        if confidence[i]>88:\n",
    "            display_string = str(confidence[i]) + '% Confident it is User'\n",
    "            cv2.putText(image, display_string, (100, 120), cv2.FONT_HERSHEY_COMPLEX, 1, (255,120,150), 2)\n",
    "            cv2.putText(image, \"Hey \"+team_data[i][0], (50, 50), cv2.FONT_HERSHEY_COMPLEX, 1, (0,255,0), 2)\n",
    "            cv2.imshow('Face Recognition', image )\n",
    "            menu(i)\n",
    "\n",
    "    else:\n",
    "        cv2.imshow('Face Recognition', image )\n",
    "            "
   ]
  },
  {
   "cell_type": "code",
   "execution_count": null,
   "id": "432d3e8a",
   "metadata": {
    "scrolled": true
   },
   "outputs": [],
   "source": [
    "import cv2\n",
    "import numpy as np\n",
    "import os\n",
    "\n",
    "face_classifier = cv2.CascadeClassifier('haarcascade_frontalface_default.xml')\n",
    "\n",
    "def face_detector(img, size=0.5):\n",
    "    \n",
    "    # Convert image to grayscale\n",
    "    gray = cv2.cvtColor(img,cv2.COLOR_BGR2GRAY)\n",
    "    faces = face_classifier.detectMultiScale(gray, 1.3, 5)\n",
    "    if faces is ():\n",
    "        return img, []    \n",
    "    \n",
    "    for (x,y,w,h) in faces:\n",
    "        cv2.rectangle(img,(x,y),(x+w,y+h),(0,255,255),2)\n",
    "        roi = img[y:y+h, x:x+w]\n",
    "        roi = cv2.resize(roi, (200, 200))\n",
    "    return img, roi\n",
    "\n",
    "\n",
    "# Open Webcam\n",
    "cap = cv2.VideoCapture(0)\n",
    "\n",
    "while True:\n",
    "\n",
    "    ret, frame = cap.read()\n",
    "    \n",
    "    image, face = face_detector(frame)\n",
    "    \n",
    "    try:\n",
    "        face = cv2.cvtColor(face, cv2.COLOR_BGR2GRAY)\n",
    "        \n",
    "        results=[]\n",
    "        # Pass face to prediction model\n",
    "        # \"results\" comprises of a tuple containing the label and the confidence value\n",
    "        for i in range(0,5):\n",
    "            results.append(face_model[i].predict(face))\n",
    "            \n",
    "        #Get_Confidence\n",
    "        get_confidence(results)\n",
    "\n",
    "    except:\n",
    "        cv2.putText(image, \"No Face Found\", (220, 120) , cv2.FONT_HERSHEY_COMPLEX, 1, (0,0,255), 2)\n",
    "        cv2.imshow('Face Recognition', image )\n",
    "        pass\n",
    "        \n",
    "    if cv2.waitKey(1) == 13: #13 is the Enter Key\n",
    "        break\n",
    "        \n",
    "cap.release()\n",
    "cv2.destroyAllWindows()       "
   ]
  },
  {
   "cell_type": "code",
   "execution_count": null,
   "id": "5c32e866",
   "metadata": {},
   "outputs": [],
   "source": []
  }
 ],
 "metadata": {
  "kernelspec": {
   "display_name": "Python 3",
   "language": "python",
   "name": "python3"
  },
  "language_info": {
   "codemirror_mode": {
    "name": "ipython",
    "version": 3
   },
   "file_extension": ".py",
   "mimetype": "text/x-python",
   "name": "python",
   "nbconvert_exporter": "python",
   "pygments_lexer": "ipython3",
   "version": "3.8.8"
  }
 },
 "nbformat": 4,
 "nbformat_minor": 5
}
