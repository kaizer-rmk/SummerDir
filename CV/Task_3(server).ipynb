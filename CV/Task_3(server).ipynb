{
 "cells": [
  {
   "cell_type": "code",
   "execution_count": null,
   "id": "7ab25331",
   "metadata": {},
   "outputs": [
    {
     "name": "stdout",
     "output_type": "stream",
     "text": [
      "Socket bind complete\n",
      "Socket is now listening..............\n"
     ]
    }
   ],
   "source": [
    "import socket \n",
    "import threading\n",
    "import cv2\n",
    "import pickle\n",
    "import numpy as np\n",
    "import struct\n",
    "\n",
    "# Configure Socket\n",
    "s = socket.socket()\n",
    "s.setsockopt(socket.SOL_SOCKET, socket.SO_REUSEADDR, 1)\n",
    "\n",
    "port = 2222\n",
    "ip = \"\"\n",
    "\n",
    "s.bind((ip,port))\n",
    "print('Socket bind complete')\n",
    "s.listen()\n",
    "print('Socket is now listening..............')\n",
    "\n",
    "conn,addr=s.accept()\n",
    "\n",
    "# Data Transfer\n",
    "data = b\"\"\n",
    "payload_size = struct.calcsize(\">L\")\n",
    "\n",
    "while True:\n",
    "    while len(data) < payload_size:\n",
    "        print(\"Recv: {}\".format(len(data)))\n",
    "        data += conn.recv(4096)\n",
    "\n",
    "    print(\"Done Recv: {}\".format(len(data)))\n",
    "    packed_msg_size = data[:payload_size]\n",
    "    data = data[payload_size:]\n",
    "    msg_size = struct.unpack(\">L\", packed_msg_size)[0]\n",
    "    print(\"msg_size: {}\".format(msg_size))\n",
    "    \n",
    "    while len(data) < msg_size:\n",
    "        data += conn.recv(4096)\n",
    "    frame_data = data[:msg_size]\n",
    "    data = data[msg_size:]\n",
    "\n",
    "    frame=pickle.loads(frame_data, fix_imports=True, encoding=\"bytes\")\n",
    "    frame = cv2.imdecode(frame, cv2.IMREAD_COLOR)\n",
    "    cv2.imshow('Server',frame)\n",
    "    if cv2.waitKey(1) & 0xff==ord(\"q\"):\n",
    "        cv2.destroyAllWindows()\n",
    "        s.close()"
   ]
  },
  {
   "cell_type": "code",
   "execution_count": null,
   "id": "f4371fef",
   "metadata": {},
   "outputs": [],
   "source": []
  }
 ],
 "metadata": {
  "kernelspec": {
   "display_name": "Python 3",
   "language": "python",
   "name": "python3"
  },
  "language_info": {
   "codemirror_mode": {
    "name": "ipython",
    "version": 3
   },
   "file_extension": ".py",
   "mimetype": "text/x-python",
   "name": "python",
   "nbconvert_exporter": "python",
   "pygments_lexer": "ipython3",
   "version": "3.8.8"
  }
 },
 "nbformat": 4,
 "nbformat_minor": 5
}
