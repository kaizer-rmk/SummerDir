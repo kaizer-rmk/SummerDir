{
 "cells": [
  {
   "cell_type": "code",
   "execution_count": 1,
   "id": "5e77c6ea",
   "metadata": {},
   "outputs": [],
   "source": [
    "from keras.datasets import mnist"
   ]
  },
  {
   "cell_type": "code",
   "execution_count": 2,
   "id": "5f6a4dd4",
   "metadata": {},
   "outputs": [
    {
     "name": "stdout",
     "output_type": "stream",
     "text": [
      "Downloading data from https://storage.googleapis.com/tensorflow/tf-keras-datasets/mnist.npz\n",
      "11493376/11490434 [==============================] - 4s 0us/step\n",
      "11501568/11490434 [==============================] - 4s 0us/step\n"
     ]
    }
   ],
   "source": [
    "#Download the dataset\n",
    "datasets = mnist.load_data('mnist.db')"
   ]
  },
  {
   "cell_type": "code",
   "execution_count": 3,
   "id": "3d5d1f12",
   "metadata": {},
   "outputs": [
    {
     "data": {
      "text/plain": [
       "2"
      ]
     },
     "execution_count": 3,
     "metadata": {},
     "output_type": "execute_result"
    }
   ],
   "source": [
    "len(datasets)"
   ]
  },
  {
   "cell_type": "code",
   "execution_count": 4,
   "id": "e48d978f",
   "metadata": {},
   "outputs": [],
   "source": [
    "train, test = datasets"
   ]
  },
  {
   "cell_type": "code",
   "execution_count": 5,
   "id": "9fe883ac",
   "metadata": {},
   "outputs": [],
   "source": [
    "X_train, y_train = train\n",
    "X_test, y_test = test"
   ]
  },
  {
   "cell_type": "code",
   "execution_count": 6,
   "id": "2335971a",
   "metadata": {},
   "outputs": [
    {
     "data": {
      "text/plain": [
       "60000"
      ]
     },
     "execution_count": 6,
     "metadata": {},
     "output_type": "execute_result"
    }
   ],
   "source": [
    "len(X_train)"
   ]
  },
  {
   "cell_type": "code",
   "execution_count": 7,
   "id": "fb15bf02",
   "metadata": {},
   "outputs": [
    {
     "data": {
      "text/plain": [
       "10000"
      ]
     },
     "execution_count": 7,
     "metadata": {},
     "output_type": "execute_result"
    }
   ],
   "source": [
    "len(X_test)"
   ]
  },
  {
   "cell_type": "code",
   "execution_count": 8,
   "id": "e0c61a33",
   "metadata": {},
   "outputs": [
    {
     "data": {
      "text/plain": [
       "(60000, 28, 28)"
      ]
     },
     "execution_count": 8,
     "metadata": {},
     "output_type": "execute_result"
    }
   ],
   "source": [
    "X_train.shape"
   ]
  },
  {
   "cell_type": "code",
   "execution_count": 9,
   "id": "b2fc187e",
   "metadata": {},
   "outputs": [],
   "source": [
    "import matplotlib.pyplot as plt"
   ]
  },
  {
   "cell_type": "code",
   "execution_count": 10,
   "id": "441c4a90",
   "metadata": {},
   "outputs": [
    {
     "data": {
      "text/plain": [
       "<matplotlib.image.AxesImage at 0x2035de1d2b0>"
      ]
     },
     "execution_count": 10,
     "metadata": {},
     "output_type": "execute_result"
    },
    {
     "data": {
      "image/png": "[encoded data removed]",
      "text/plain": [
       "<Figure size 432x288 with 1 Axes>"
      ]
     },
     "metadata": {
      "needs_background": "light"
     },
     "output_type": "display_data"
    }
   ],
   "source": [
    "img1 = X_train[0]\n",
    "plt.imshow(img1,cmap='gray')"
   ]
  },
  {
   "cell_type": "code",
   "execution_count": 11,
   "id": "ef535db5",
   "metadata": {},
   "outputs": [
    {
     "data": {
      "text/plain": [
       "<matplotlib.image.AxesImage at 0x2035feecca0>"
      ]
     },
     "execution_count": 11,
     "metadata": {},
     "output_type": "execute_result"
    },
    {
     "data": {
      "image/png": "[encoded data removed]",
      "text/plain": [
       "<Figure size 432x288 with 1 Axes>"
      ]
     },
     "metadata": {
      "needs_background": "light"
     },
     "output_type": "display_data"
    }
   ],
   "source": [
    "img2 = X_train[5]\n",
    "plt.imshow(img2,cmap=\"gray\")"
   ]
  },
  {
   "cell_type": "code",
   "execution_count": 12,
   "id": "2558879b",
   "metadata": {},
   "outputs": [
    {
     "data": {
      "text/plain": [
       "numpy.ndarray"
      ]
     },
     "execution_count": 12,
     "metadata": {},
     "output_type": "execute_result"
    }
   ],
   "source": [
    "type(img2)"
   ]
  },
  {
   "cell_type": "code",
   "execution_count": 13,
   "id": "3d017e0d",
   "metadata": {},
   "outputs": [],
   "source": [
    "img2_1d = img2.reshape(28*28)"
   ]
  },
  {
   "cell_type": "code",
   "execution_count": 14,
   "id": "5571042a",
   "metadata": {},
   "outputs": [
    {
     "data": {
      "text/plain": [
       "(784,)"
      ]
     },
     "execution_count": 14,
     "metadata": {},
     "output_type": "execute_result"
    }
   ],
   "source": [
    "img2_1d.shape"
   ]
  },
  {
   "cell_type": "code",
   "execution_count": 15,
   "id": "a96ecc98",
   "metadata": {},
   "outputs": [
    {
     "data": {
      "text/plain": [
       "array([  0,   0,   0,   0,   0,   0,   0,   0,   0,   0,   0,   0,   0,\n",
       "         0,   0,   0,   0,   0,   0,   0,   0,   0,   0,   0,   0,   0,\n",
       "         0,   0,   0,   0,   0,   0,   0,   0,   0,   0,   0,   0,   0,\n",
       "         0,   0,   0,   0,   0,   0,   0,   0,   0,   0,   0,   0,   0,\n",
       "         0,   0,   0,   0,   0,   0,   0,   0,   0,   0,   0,   0,   0,\n",
       "         0,   0,   0,   0,   0,   0,   0,   0,   0,   0,   0,   0,   0,\n",
       "         0,   0,   0,   0,   0,   0,   0,   0,   0,   0,   0,   0,   0,\n",
       "         0,   0,   0,   0,   0,   0,   0,   0,   0,   0,   0,   0,   0,\n",
       "         0,   0,   0,   0,   0,   0,   0,   0,   0,   0,   0,   0,   0,\n",
       "         0,   0,   0,   0,   0,   0,   0,   0,   0,   0,   0,   0,   0,\n",
       "         0,   0,   0,   0,   0,   0,   0,   0,   0,   0,   0,   0,   0,\n",
       "         0,   0,   0,   0,   0,   0,   0,   0,   0,   0,   0,   0,  13,\n",
       "        25, 100, 122,   7,   0,   0,   0,   0,   0,   0,   0,   0,   0,\n",
       "         0,   0,   0,   0,   0,   0,   0,   0,   0,   0,   0,   0,  33,\n",
       "       151, 208, 252, 252, 252, 146,   0,   0,   0,   0,   0,   0,   0,\n",
       "         0,   0,   0,   0,   0,   0,   0,   0,   0,   0,   0,   0,  40,\n",
       "       152, 244, 252, 253, 224, 211, 252, 232,  40,   0,   0,   0,   0,\n",
       "         0,   0,   0,   0,   0,   0,   0,   0,   0,   0,   0,   0,  15,\n",
       "       152, 239, 252, 252, 252, 216,  31,  37, 252, 252,  60,   0,   0,\n",
       "         0,   0,   0,   0,   0,   0,   0,   0,   0,   0,   0,   0,   0,\n",
       "         0,  96, 252, 252, 252, 252, 217,  29,   0,  37, 252, 252,  60,\n",
       "         0,   0,   0,   0,   0,   0,   0,   0,   0,   0,   0,   0,   0,\n",
       "         0,   0,   0, 181, 252, 252, 220, 167,  30,   0,   0,  77, 252,\n",
       "       252,  60,   0,   0,   0,   0,   0,   0,   0,   0,   0,   0,   0,\n",
       "         0,   0,   0,   0,   0,  26, 128,  58,  22,   0,   0,   0,   0,\n",
       "       100, 252, 252,  60,   0,   0,   0,   0,   0,   0,   0,   0,   0,\n",
       "         0,   0,   0,   0,   0,   0,   0,   0,   0,   0,   0,   0,   0,\n",
       "         0,   0, 157, 252, 252,  60,   0,   0,   0,   0,   0,   0,   0,\n",
       "         0,   0,   0,   0,   0,   0,   0,   0,   0,   0,   0,   0,   0,\n",
       "       110, 121, 122, 121, 202, 252, 194,   3,   0,   0,   0,   0,   0,\n",
       "         0,   0,   0,   0,   0,   0,   0,   0,   0,   0,   0,   0,  10,\n",
       "        53, 179, 253, 253, 255, 253, 253, 228,  35,   0,   0,   0,   0,\n",
       "         0,   0,   0,   0,   0,   0,   0,   0,   0,   0,   0,   0,   5,\n",
       "        54, 227, 252, 243, 228, 170, 242, 252, 252, 231, 117,   6,   0,\n",
       "         0,   0,   0,   0,   0,   0,   0,   0,   0,   0,   0,   0,   0,\n",
       "         6,  78, 252, 252, 125,  59,   0,  18, 208, 252, 252, 252, 252,\n",
       "        87,   7,   0,   0,   0,   0,   0,   0,   0,   0,   0,   0,   0,\n",
       "         0,   5, 135, 252, 252, 180,  16,   0,  21, 203, 253, 247, 129,\n",
       "       173, 252, 252, 184,  66,  49,  49,   0,   0,   0,   0,   0,   0,\n",
       "         0,   0,   3, 136, 252, 241, 106,  17,   0,  53, 200, 252, 216,\n",
       "        65,   0,  14,  72, 163, 241, 252, 252, 223,   0,   0,   0,   0,\n",
       "         0,   0,   0,   0, 105, 252, 242,  88,  18,  73, 170, 244, 252,\n",
       "       126,  29,   0,   0,   0,   0,   0,  89, 180, 180,  37,   0,   0,\n",
       "         0,   0,   0,   0,   0,   0, 231, 252, 245, 205, 216, 252, 252,\n",
       "       252, 124,   3,   0,   0,   0,   0,   0,   0,   0,   0,   0,   0,\n",
       "         0,   0,   0,   0,   0,   0,   0,   0, 207, 252, 252, 252, 252,\n",
       "       178, 116,  36,   4,   0,   0,   0,   0,   0,   0,   0,   0,   0,\n",
       "         0,   0,   0,   0,   0,   0,   0,   0,   0,   0,  13,  93, 143,\n",
       "       121,  23,   6,   0,   0,   0,   0,   0,   0,   0,   0,   0,   0,\n",
       "         0,   0,   0,   0,   0,   0,   0,   0,   0,   0,   0,   0,   0,\n",
       "         0,   0,   0,   0,   0,   0,   0,   0,   0,   0,   0,   0,   0,\n",
       "         0,   0,   0,   0,   0,   0,   0,   0,   0,   0,   0,   0,   0,\n",
       "         0,   0,   0,   0,   0,   0,   0,   0,   0,   0,   0,   0,   0,\n",
       "         0,   0,   0,   0,   0,   0,   0,   0,   0,   0,   0,   0,   0,\n",
       "         0,   0,   0,   0,   0,   0,   0,   0,   0,   0,   0,   0,   0,\n",
       "         0,   0,   0,   0,   0,   0,   0,   0,   0,   0,   0,   0,   0,\n",
       "         0,   0,   0,   0,   0,   0,   0,   0,   0,   0,   0,   0,   0,\n",
       "         0,   0,   0,   0,   0,   0,   0,   0,   0,   0,   0,   0,   0,\n",
       "         0,   0,   0,   0,   0,   0,   0,   0,   0,   0,   0,   0,   0,\n",
       "         0,   0,   0,   0,   0,   0,   0,   0,   0,   0,   0,   0,   0,\n",
       "         0,   0,   0,   0], dtype=uint8)"
      ]
     },
     "execution_count": 15,
     "metadata": {},
     "output_type": "execute_result"
    }
   ],
   "source": [
    "img2_1d"
   ]
  },
  {
   "cell_type": "code",
   "execution_count": 16,
   "id": "aa71d86d",
   "metadata": {},
   "outputs": [
    {
     "data": {
      "text/plain": [
       "(60000, 28, 28)"
      ]
     },
     "execution_count": 16,
     "metadata": {},
     "output_type": "execute_result"
    }
   ],
   "source": [
    "X_train.shape"
   ]
  },
  {
   "cell_type": "code",
   "execution_count": 17,
   "id": "bda297d6",
   "metadata": {},
   "outputs": [],
   "source": [
    "#We have to convert the datasets to 1D\n",
    "X_train_1d = X_train.reshape(-1,28*28)\n",
    "X_test_1d = X_test.reshape(-1,28*28)"
   ]
  },
  {
   "cell_type": "code",
   "execution_count": 18,
   "id": "a0b4eed5",
   "metadata": {},
   "outputs": [
    {
     "data": {
      "text/plain": [
       "(60000, 784)"
      ]
     },
     "execution_count": 18,
     "metadata": {},
     "output_type": "execute_result"
    }
   ],
   "source": [
    "X_train_1d.shape"
   ]
  },
  {
   "cell_type": "code",
   "execution_count": 19,
   "id": "be5905f9",
   "metadata": {},
   "outputs": [
    {
     "data": {
      "text/plain": [
       "array([[0, 0, 0, ..., 0, 0, 0],\n",
       "       [0, 0, 0, ..., 0, 0, 0],\n",
       "       [0, 0, 0, ..., 0, 0, 0],\n",
       "       ...,\n",
       "       [0, 0, 0, ..., 0, 0, 0],\n",
       "       [0, 0, 0, ..., 0, 0, 0],\n",
       "       [0, 0, 0, ..., 0, 0, 0]], dtype=uint8)"
      ]
     },
     "execution_count": 19,
     "metadata": {},
     "output_type": "execute_result"
    }
   ],
   "source": [
    "# Here the data in integer value but we need folating value\n",
    "X_train_1d"
   ]
  },
  {
   "cell_type": "code",
   "execution_count": 20,
   "id": "6a5ad0ce",
   "metadata": {},
   "outputs": [],
   "source": [
    "#Converting integer vlaues to the floating value\n",
    "X_train_1d_f = X_train_1d.astype('float32')\n",
    "X_test_1d_f = X_test_1d.astype('float32')"
   ]
  },
  {
   "cell_type": "code",
   "execution_count": 21,
   "id": "5343e1ac",
   "metadata": {},
   "outputs": [
    {
     "data": {
      "text/plain": [
       "array([[0., 0., 0., ..., 0., 0., 0.],\n",
       "       [0., 0., 0., ..., 0., 0., 0.],\n",
       "       [0., 0., 0., ..., 0., 0., 0.],\n",
       "       ...,\n",
       "       [0., 0., 0., ..., 0., 0., 0.],\n",
       "       [0., 0., 0., ..., 0., 0., 0.],\n",
       "       [0., 0., 0., ..., 0., 0., 0.]], dtype=float32)"
      ]
     },
     "execution_count": 21,
     "metadata": {},
     "output_type": "execute_result"
    }
   ],
   "source": [
    "X_train_1d_f"
   ]
  },
  {
   "cell_type": "code",
   "execution_count": 22,
   "id": "5f7d6e90",
   "metadata": {},
   "outputs": [
    {
     "data": {
      "text/plain": [
       "array([5, 0, 4, ..., 5, 6, 8], dtype=uint8)"
      ]
     },
     "execution_count": 22,
     "metadata": {},
     "output_type": "execute_result"
    }
   ],
   "source": [
    "y_train"
   ]
  },
  {
   "cell_type": "code",
   "execution_count": 23,
   "id": "48a061fb",
   "metadata": {},
   "outputs": [],
   "source": [
    "#Convert the y values to 0 and 1\n",
    "from keras.utils.np_utils import to_categorical\n",
    "y_train_cat = to_categorical(y_train)"
   ]
  },
  {
   "cell_type": "code",
   "execution_count": 24,
   "id": "15425f3f",
   "metadata": {},
   "outputs": [
    {
     "data": {
      "text/plain": [
       "8"
      ]
     },
     "execution_count": 24,
     "metadata": {},
     "output_type": "execute_result"
    }
   ],
   "source": [
    "y_train[300]"
   ]
  },
  {
   "cell_type": "code",
   "execution_count": 25,
   "id": "e02202c2",
   "metadata": {},
   "outputs": [
    {
     "data": {
      "text/plain": [
       "array([0., 0., 0., 0., 0., 0., 0., 0., 1., 0.], dtype=float32)"
      ]
     },
     "execution_count": 25,
     "metadata": {},
     "output_type": "execute_result"
    }
   ],
   "source": [
    "y_train_cat[300]"
   ]
  },
  {
   "cell_type": "code",
   "execution_count": 26,
   "id": "a96c0a0d",
   "metadata": {},
   "outputs": [],
   "source": [
    "from keras.models import Sequential\n",
    "from keras.layers import Dense"
   ]
  },
  {
   "cell_type": "code",
   "execution_count": 27,
   "id": "62aaa50a",
   "metadata": {},
   "outputs": [],
   "source": [
    "model = Sequential()"
   ]
  },
  {
   "cell_type": "code",
   "execution_count": 28,
   "id": "05b8d690",
   "metadata": {},
   "outputs": [],
   "source": [
    "model.add(\n",
    "    Dense(units = 512,input_dim=28*28,activation='relu')\n",
    ")"
   ]
  },
  {
   "cell_type": "code",
   "execution_count": 29,
   "id": "59238c98",
   "metadata": {},
   "outputs": [
    {
     "name": "stdout",
     "output_type": "stream",
     "text": [
      "Model: \"sequential\"\n",
      "_________________________________________________________________\n",
      "Layer (type)                 Output Shape              Param #   \n",
      "=================================================================\n",
      "dense (Dense)                (None, 512)               401920    \n",
      "=================================================================\n",
      "Total params: 401,920\n",
      "Trainable params: 401,920\n",
      "Non-trainable params: 0\n",
      "_________________________________________________________________\n"
     ]
    }
   ],
   "source": [
    "model.summary()"
   ]
  },
  {
   "cell_type": "code",
   "execution_count": 30,
   "id": "8b138169",
   "metadata": {},
   "outputs": [],
   "source": [
    "model.add(\n",
    "    Dense(units=256,activation='relu')\n",
    ")"
   ]
  },
  {
   "cell_type": "code",
   "execution_count": 31,
   "id": "ee806be6",
   "metadata": {},
   "outputs": [],
   "source": [
    "model.add(\n",
    "    Dense(units=128,activation='relu')\n",
    ")"
   ]
  },
  {
   "cell_type": "code",
   "execution_count": 32,
   "id": "44d426df",
   "metadata": {},
   "outputs": [],
   "source": [
    "model.add(\n",
    "    Dense(units=64,activation='relu')\n",
    ")"
   ]
  },
  {
   "cell_type": "code",
   "execution_count": 33,
   "id": "d4bd579d",
   "metadata": {},
   "outputs": [],
   "source": [
    "model.add(\n",
    "    Dense(units=10,activation='softmax')\n",
    ")"
   ]
  },
  {
   "cell_type": "code",
   "execution_count": 34,
   "id": "459efa96",
   "metadata": {},
   "outputs": [
    {
     "name": "stdout",
     "output_type": "stream",
     "text": [
      "Model: \"sequential\"\n",
      "_________________________________________________________________\n",
      "Layer (type)                 Output Shape              Param #   \n",
      "=================================================================\n",
      "dense (Dense)                (None, 512)               401920    \n",
      "_________________________________________________________________\n",
      "dense_1 (Dense)              (None, 256)               131328    \n",
      "_________________________________________________________________\n",
      "dense_2 (Dense)              (None, 128)               32896     \n",
      "_________________________________________________________________\n",
      "dense_3 (Dense)              (None, 64)                8256      \n",
      "_________________________________________________________________\n",
      "dense_4 (Dense)              (None, 10)                650       \n",
      "=================================================================\n",
      "Total params: 575,050\n",
      "Trainable params: 575,050\n",
      "Non-trainable params: 0\n",
      "_________________________________________________________________\n"
     ]
    }
   ],
   "source": [
    "model.summary()"
   ]
  },
  {
   "cell_type": "code",
   "execution_count": 35,
   "id": "1afd10a7",
   "metadata": {},
   "outputs": [],
   "source": [
    "model.compile(optimizer='rmsprop',loss='categorical_crossentropy',metrics=['accuracy'])"
   ]
  },
  {
   "cell_type": "code",
   "execution_count": 36,
   "id": "41b64c4f",
   "metadata": {},
   "outputs": [
    {
     "name": "stdout",
     "output_type": "stream",
     "text": [
      "Epoch 1/10\n",
      "1875/1875 [==============================] - 40s 9ms/step - loss: 3.1198 - accuracy: 0.8095\n",
      "Epoch 2/10\n",
      "1875/1875 [==============================] - 15s 8ms/step - loss: 0.3510 - accuracy: 0.9302\n",
      "Epoch 3/10\n",
      "1875/1875 [==============================] - 16s 8ms/step - loss: 0.3684 - accuracy: 0.9317\n",
      "Epoch 4/10\n",
      "1875/1875 [==============================] - 15s 8ms/step - loss: 0.4408 - accuracy: 0.9262\n",
      "Epoch 5/10\n",
      "1875/1875 [==============================] - 15s 8ms/step - loss: 0.6020 - accuracy: 0.9015\n",
      "Epoch 6/10\n",
      "1875/1875 [==============================] - 15s 8ms/step - loss: 0.6317 - accuracy: 0.9035\n",
      "Epoch 7/10\n",
      "1875/1875 [==============================] - 15s 8ms/step - loss: 0.6607 - accuracy: 0.8883\n",
      "Epoch 8/10\n",
      "1875/1875 [==============================] - 15s 8ms/step - loss: 0.7165 - accuracy: 0.8709\n",
      "Epoch 9/10\n",
      "1875/1875 [==============================] - 15s 8ms/step - loss: 0.7595 - accuracy: 0.8656\n",
      "Epoch 10/10\n",
      "1875/1875 [==============================] - 15s 8ms/step - loss: 0.8385 - accuracy: 0.8493\n"
     ]
    },
    {
     "data": {
      "text/plain": [
       "<keras.callbacks.History at 0x2036f38be80>"
      ]
     },
     "execution_count": 36,
     "metadata": {},
     "output_type": "execute_result"
    }
   ],
   "source": [
    "model.fit(X_train_1d_f,y_train_cat,epochs=10)"
   ]
  },
  {
   "cell_type": "markdown",
   "id": "fbaac9fa",
   "metadata": {},
   "source": [
    "### Testing"
   ]
  },
  {
   "cell_type": "code",
   "execution_count": 37,
   "id": "7cedc6ca",
   "metadata": {},
   "outputs": [
    {
     "data": {
      "text/plain": [
       "<matplotlib.image.AxesImage at 0x2036fcf08e0>"
      ]
     },
     "execution_count": 37,
     "metadata": {},
     "output_type": "execute_result"
    },
    {
     "data": {
      "image/png": "[encoded data removed]",
      "text/plain": [
       "<Figure size 432x288 with 1 Axes>"
      ]
     },
     "metadata": {
      "needs_background": "light"
     },
     "output_type": "display_data"
    }
   ],
   "source": [
    "img_t = X_test[210]\n",
    "plt.imshow(img_t)"
   ]
  },
  {
   "cell_type": "code",
   "execution_count": 38,
   "id": "a203dbe6",
   "metadata": {},
   "outputs": [
    {
     "data": {
      "text/plain": [
       "(1, 784)"
      ]
     },
     "execution_count": 38,
     "metadata": {},
     "output_type": "execute_result"
    }
   ],
   "source": [
    "img_t_1d = img_t.reshape(-1,28*28)\n",
    "img_t_1d.shape"
   ]
  },
  {
   "cell_type": "code",
   "execution_count": 39,
   "id": "92f645b6",
   "metadata": {},
   "outputs": [
    {
     "data": {
      "text/plain": [
       "array([[  0,   0,   0,   0,   0,   0,   0,   0,   0,   0,   0,   0,   0,\n",
       "          0,   0,   0,   0,   0,   0,   0,   0,   0,   0,   0,   0,   0,\n",
       "          0,   0,   0,   0,   0,   0,   0,   0,   0,   0,   0,   0,   0,\n",
       "          0,   0,   0,   0,   0,   0,   0,   0,   0,   0,   0,   0,   0,\n",
       "          0,   0,   0,   0,   0,   0,   0,   0,   0,   0,   0,   0,   0,\n",
       "          0,   0,   0,   0,   0,   0,   0,   0,   0,   0,   0,   0,   0,\n",
       "          0,   0,   0,   0,   0,   0,   0,   0,   0,   0,   0,   0,   0,\n",
       "          0,   0,   0,   0,   0,   0,   0,   0,   0,   0,   0,   0,   0,\n",
       "          0,   0,   0,   0,   0,   0,   0,   0,   0,   0,   0,   0,   0,\n",
       "          0,   0,   0,   0,   0,   0,   0,   0,   0,   0,   0,   0,   0,\n",
       "          0,   0,   0,   0,   0,   0,   0,   0,   0,   0,   0,   0,   0,\n",
       "          0,   0,   0,   0,   0,   0,   0,   0,   0,   0,   0,   0,   0,\n",
       "          0,   0,   0,   0,   0,   0,   0,   0,   0,   0,   0,   0,   0,\n",
       "          0,   0,   0,   0,   0,   0,  32, 134,  61,   0,   0,   0,   0,\n",
       "          0,   0,   0,   0,   0,   0, 178, 223,  12,   0,   0,   0,   0,\n",
       "          0,   0,   0,   0,   0,   0,   0,   0, 144, 253, 142,   0,   0,\n",
       "          0,   0,   0,   0,   0,   0,   0,  28, 232, 216,  10,   0,   0,\n",
       "          0,   0,   0,   0,   0,   0,   0,   0,   0,   0, 234, 253, 128,\n",
       "          0,   0,   0,   0,   0,   0,   0,   0,   0,  89, 253, 107,   0,\n",
       "          0,   0,   0,   0,   0,   0,   0,   0,   0,   0,   0,   0, 234,\n",
       "        253,  83,   0,   0,   0,   0,   0,   0,   0,   0,   0, 156, 242,\n",
       "         36,   0,   0,   0,   0,   0,   0,   0,   0,   0,   0,   0,   0,\n",
       "          0, 234, 253,   0,   0,   0,   0,   0,   0,   0,   0,   0,   0,\n",
       "        231, 233,   0,   0,   0,   0,   0,   0,   0,   0,   0,   0,   0,\n",
       "          0,  13, 224, 254, 155,   0,   0,   0,   0,   0,   0,   0,   0,\n",
       "          0,  61, 255, 234,   0,   0,   0,   0,   0,   0,   0,   0,   0,\n",
       "          0,   0,   0,  28, 253, 253,  73,   0,   0,   0,   0,   0,   0,\n",
       "          0,   0,   0,  98, 254, 188,   0,   0,   0,   0,   0,   0,   0,\n",
       "          0,   0,   0,   0,   0,  88, 253, 237,  36,   0,   0,   0,   0,\n",
       "          0,   0,   0,   0,   0, 165, 254,  68,   0,   0,   0,   0,   0,\n",
       "          0,   0,   0,   0,   0,   0,   0,   9, 196, 253, 126,  40,  24,\n",
       "         40,   9,  24,   0,   0,   0,  52, 248, 199,   3,   0,   0,   0,\n",
       "          0,   0,   0,   0,   0,   0,   0,   0,   0,   0,  18, 238, 253,\n",
       "        254, 230, 253, 208, 230, 196, 195, 195, 226, 253, 195,   0,   0,\n",
       "          0,   0,   0,   0,   0,   0,   0,   0,   0,   0,   0,   0,   0,\n",
       "          0,  76,  99,  98,  68,   0,   0,   0,   0,   0, 235, 254, 135,\n",
       "          0,   0,   0,   0,   0,   0,   0,   0,   0,   0,   0,   0,   0,\n",
       "          0,   0,   0,   0,   0,   0,   0,   0,   0,   0,   0, 112, 250,\n",
       "        245,  15,   0,   0,   0,   0,   0,   0,   0,   0,   0,   0,   0,\n",
       "          0,   0,   0,   0,   0,   0,   0,   0,   0,   0,   0,   0,   0,\n",
       "        175, 253, 155,   0,   0,   0,   0,   0,   0,   0,   0,   0,   0,\n",
       "          0,   0,   0,   0,   0,   0,   0,   0,   0,   0,   0,   0,   0,\n",
       "          0,   4, 187, 253, 140,   0,   0,   0,   0,   0,   0,   0,   0,\n",
       "          0,   0,   0,   0,   0,   0,   0,   0,   0,   0,   0,   0,   0,\n",
       "          0,   0,   0,  20, 253, 253,  58,   0,   0,   0,   0,   0,   0,\n",
       "          0,   0,   0,   0,   0,   0,   0,   0,   0,   0,   0,   0,   0,\n",
       "          0,   0,   0,   0,   0,  80, 254, 229,  23,   0,   0,   0,   0,\n",
       "          0,   0,   0,   0,   0,   0,   0,   0,   0,   0,   0,   0,   0,\n",
       "          0,   0,   0,   0,   0,   0,   0, 200, 253, 138,   0,   0,   0,\n",
       "          0,   0,   0,   0,   0,   0,   0,   0,   0,   0,   0,   0,   0,\n",
       "          0,   0,   0,   0,   0,   0,   0,   0,   0, 214, 253, 146,   0,\n",
       "          0,   0,   0,   0,   0,   0,   0,   0,   0,   0,   0,   0,   0,\n",
       "          0,   0,   0,   0,   0,   0,   0,   0,   0,   0,   0, 214, 253,\n",
       "        102,   0,   0,   0,   0,   0,   0,   0,   0,   0,   0,   0,   0,\n",
       "          0,   0,   0,   0,   0,   0,   0,   0,   0,   0,   0,   0,   0,\n",
       "        214, 192,   5,   0,   0,   0,   0,   0,   0,   0,   0,   0,   0,\n",
       "          0,   0,   0,   0,   0,   0,   0,   0,   0,   0,   0,   0,   0,\n",
       "          0,   0,   0,   0,   0,   0,   0,   0,   0,   0,   0,   0,   0,\n",
       "          0,   0,   0,   0,   0,   0,   0,   0,   0,   0,   0,   0,   0,\n",
       "          0,   0,   0,   0,   0,   0,   0,   0,   0,   0,   0,   0,   0,\n",
       "          0,   0,   0,   0]], dtype=uint8)"
      ]
     },
     "execution_count": 39,
     "metadata": {},
     "output_type": "execute_result"
    }
   ],
   "source": [
    "img_t_1d"
   ]
  },
  {
   "cell_type": "code",
   "execution_count": 40,
   "id": "11eb8df7",
   "metadata": {},
   "outputs": [],
   "source": [
    "result = model.predict(img_t_1d)"
   ]
  },
  {
   "cell_type": "code",
   "execution_count": 41,
   "id": "06185cd7",
   "metadata": {},
   "outputs": [
    {
     "data": {
      "text/plain": [
       "array([0., 0., 0., 0., 1., 0., 0., 0., 0., 0.], dtype=float32)"
      ]
     },
     "execution_count": 41,
     "metadata": {},
     "output_type": "execute_result"
    }
   ],
   "source": [
    "result[0]"
   ]
  },
  {
   "cell_type": "code",
   "execution_count": 42,
   "id": "700bceaa",
   "metadata": {},
   "outputs": [
    {
     "name": "stdout",
     "output_type": "stream",
     "text": [
      "The Number is:  4\n"
     ]
    }
   ],
   "source": [
    "import numpy as np\n",
    "max_index = np.argmax(result[0], axis=0)\n",
    "print(\"The Number is: \",max_index)"
   ]
  },
  {
   "cell_type": "markdown",
   "id": "0d96fb53",
   "metadata": {},
   "source": [
    "### Real Test"
   ]
  },
  {
   "cell_type": "code",
   "execution_count": 43,
   "id": "7a431a80",
   "metadata": {},
   "outputs": [
    {
     "data": {
      "text/plain": [
       "<matplotlib.image.AxesImage at 0x20372191700>"
      ]
     },
     "execution_count": 43,
     "metadata": {},
     "output_type": "execute_result"
    },
    {
     "data": {
      "image/png": "[encoded data removed]",
      "text/plain": [
       "<Figure size 432x288 with 1 Axes>"
      ]
     },
     "metadata": {
      "needs_background": "light"
     },
     "output_type": "display_data"
    }
   ],
   "source": [
    "import cv2\n",
    "img_real = cv2.imread(\"dig_1.png\",cv2.IMREAD_GRAYSCALE)\n",
    "plt.imshow(img_real)"
   ]
  },
  {
   "cell_type": "code",
   "execution_count": 44,
   "id": "20a7db32",
   "metadata": {},
   "outputs": [
    {
     "data": {
      "text/plain": [
       "(609, 792)"
      ]
     },
     "execution_count": 44,
     "metadata": {},
     "output_type": "execute_result"
    }
   ],
   "source": [
    "img_real.shape"
   ]
  },
  {
   "cell_type": "code",
   "execution_count": 45,
   "id": "c5a4881a",
   "metadata": {},
   "outputs": [],
   "source": [
    "img_real_t = cv2.resize(img_real,(28,28))"
   ]
  },
  {
   "cell_type": "code",
   "execution_count": 46,
   "id": "0815c306",
   "metadata": {},
   "outputs": [
    {
     "data": {
      "text/plain": [
       "(28, 28)"
      ]
     },
     "execution_count": 46,
     "metadata": {},
     "output_type": "execute_result"
    }
   ],
   "source": [
    "img_real_t.shape"
   ]
  },
  {
   "cell_type": "code",
   "execution_count": 47,
   "id": "62f45440",
   "metadata": {},
   "outputs": [
    {
     "data": {
      "text/plain": [
       "(1, 784)"
      ]
     },
     "execution_count": 47,
     "metadata": {},
     "output_type": "execute_result"
    }
   ],
   "source": [
    "img_t_1d = img_real_t.reshape(-1,28*28)\n",
    "img_t_1d.shape"
   ]
  },
  {
   "cell_type": "code",
   "execution_count": 48,
   "id": "7d0fc5f1",
   "metadata": {},
   "outputs": [
    {
     "data": {
      "text/plain": [
       "array([[  0,   0,   0,   0,   0,   0,   0,   0,   0,   0,   0,   0,   0,\n",
       "          0,   0,   0,   0,   0,   0,   0,   0,   0,   0,   0,   0,   0,\n",
       "          0,   0,   0,   0,   0,   0,   0,   0,   0,   0,   0,   0,   0,\n",
       "          0,   0,   0,   0,   0,   0,   0,   0,   0,   0,   0,   0,   0,\n",
       "          0,   0,   0,   0,   0,   0,   0,   0,   0,   0,   0,   0,   0,\n",
       "          0,   0,   0,   0,   0,   0,   0,   0,   0,   0,   0,   0,   0,\n",
       "          0,   0,   0,   0,   0,   0,   0,   0,   0,   0,   0,   0,   0,\n",
       "          0,   0,   0,   0,   0,   0,   0,   0,   0,   0,   0,   0,   0,\n",
       "          0,   0,   0,   0,   0,   0,   0,   0,   0,   0,   0,   0,   0,\n",
       "          0,   0,   0,   0,   0,   0, 255, 255, 255, 255, 255,   0,   0,\n",
       "          0,   0,   0,   0,   0,   0,   0,   0,   0,   0,   0,   0,   0,\n",
       "          0,   0,   0,   0,   0,   0,   0,   0, 255, 255, 255, 255, 255,\n",
       "          0,   0,   0,   0,   0,   0,   0,   0,   0,   0,   0,   0,   0,\n",
       "          0,   0,   0,   0,   0,   0,   0,   0,   0,   0, 255, 255, 255,\n",
       "        255, 255,   0,   0,   0,   0,   0,   0,   0,   0,   0,   0,   0,\n",
       "          0,   0,   0,   0,   0,   0,   0,   0,   0,   0,   0,   0, 255,\n",
       "        255, 255, 255, 255,   0,   0,   0,   0,   0,   0,   0,   0,   0,\n",
       "          0,   0,   0,   0,   0,   0,   0,   0,   0,   0,   0,   0,   0,\n",
       "          0, 255, 255, 255, 255, 255,   0,   0,   0,   0,   0,   0,   0,\n",
       "          0,   0,   0,   0,   0,   0,   0,   0,   0,   0,   0,   0,   0,\n",
       "          0,   0,   0, 255, 255, 255, 255, 255,   0,   0,   0,   0,   0,\n",
       "          0,   0,   0,   0,   0,   0,   0,   0,   0,   0,   0,   0,   0,\n",
       "          0,   0,   0,   0,   0, 255, 255, 255, 255, 255,   0,   0,   0,\n",
       "          0,   0,   0,   0,   0,   0,   0,   0,   0,   0,   0,   0,   0,\n",
       "          0,   0,   0,   0,   0,   0,   0, 255, 255, 255, 255, 255,   0,\n",
       "          0,   0,   0,   0,   0,   0,   0,   0,   0,   0,   0,   0,   0,\n",
       "          0,   0,   0,   0,   0,   0,   0,   0,   0, 255, 255, 255, 255,\n",
       "        255,   0,   0,   0,   0,   0,   0,   0,   0,   0,   0,   0,   0,\n",
       "          0,   0,   0,   0,   0,   0,   0,   0,   0,   0,   0, 255, 255,\n",
       "        255, 255, 255,   0,   0,   0,   0,   0,   0,   0,   0,   0,   0,\n",
       "          0,   0,   0,   0,   0,   0,   0,   0,   0,   0,   0,   0,   0,\n",
       "        255, 255, 255, 255, 255,   0,   0,   0,   0,   0,   0,   0,   0,\n",
       "          0,   0,   0,   0,   0,   0,   0,   0,   0,   0,   0,   0,   0,\n",
       "          0,   0, 255, 255, 255, 255, 255,   0,   0,   0,   0,   0,   0,\n",
       "          0,   0,   0,   0,   0,   0,   0,   0,   0,   0,   0,   0,   0,\n",
       "          0,   0,   0,   0, 255, 255, 255, 255, 255,   0,   0,   0,   0,\n",
       "          0,   0,   0,   0,   0,   0,   0,   0,   0,   0,   0,   0,   0,\n",
       "          0,   0,   0,   0,   0,   0, 255, 255, 255, 255, 255,   0,   0,\n",
       "          0,   0,   0,   0,   0,   0,   0,   0,   0,   0,   0,   0,   0,\n",
       "          0,   0,   0,   0,   0,   0,   0,   0, 255, 255, 255, 255, 255,\n",
       "          0,   0,   0,   0,   0,   0,   0,   0,   0,   0,   0,   0,   0,\n",
       "          0,   0,   0,   0,   0,   0,   0,   0,   0,   0, 255, 255, 255,\n",
       "        255, 255,   0,   0,   0,   0,   0,   0,   0,   0,   0,   0,   0,\n",
       "          0,   0,   0,   0,   0,   0,   0,   0,   0,   0,   0,   0, 255,\n",
       "        255, 255, 255, 255,   0,   0,   0,   0,   0,   0,   0,   0,   0,\n",
       "          0,   0,   0,   0,   0,   0,   0,   0,   0,   0,   0,   0,   0,\n",
       "          0,   0,   0,   0,   0,   0,   0,   0,   0,   0,   0,   0,   0,\n",
       "          0,   0,   0,   0,   0,   0,   0,   0,   0,   0,   0,   0,   0,\n",
       "          0,   0,   0,   0,   0,   0,   0,   0,   0,   0,   0,   0,   0,\n",
       "          0,   0,   0,   0,   0,   0,   0,   0,   0,   0,   0,   0,   0,\n",
       "          0,   0,   0,   0,   0,   0,   0,   0,   0,   0,   0,   0,   0,\n",
       "          0,   0,   0,   0,   0,   0,   0,   0,   0,   0,   0,   0,   0,\n",
       "          0,   0,   0,   0,   0,   0,   0,   0,   0,   0,   0,   0,   0,\n",
       "          0,   0,   0,   0,   0,   0,   0,   0,   0,   0,   0,   0,   0,\n",
       "          0,   0,   0,   0,   0,   0,   0,   0,   0,   0,   0,   0,   0,\n",
       "          0,   0,   0,   0,   0,   0,   0,   0,   0,   0,   0,   0,   0,\n",
       "          0,   0,   0,   0,   0,   0,   0,   0,   0,   0,   0,   0,   0,\n",
       "          0,   0,   0,   0,   0,   0,   0,   0,   0,   0,   0,   0,   0,\n",
       "          0,   0,   0,   0,   0,   0,   0,   0,   0,   0,   0,   0,   0,\n",
       "          0,   0,   0,   0,   0,   0,   0,   0,   0,   0,   0,   0,   0,\n",
       "          0,   0,   0,   0]], dtype=uint8)"
      ]
     },
     "execution_count": 48,
     "metadata": {},
     "output_type": "execute_result"
    }
   ],
   "source": [
    "img_t_1d"
   ]
  },
  {
   "cell_type": "code",
   "execution_count": 49,
   "id": "201df614",
   "metadata": {},
   "outputs": [
    {
     "data": {
      "text/plain": [
       "array([1.3791140e-08, 9.9711823e-01, 2.3535063e-06, 6.9797416e-08,\n",
       "       1.6912786e-04, 2.0817588e-08, 4.0641526e-06, 8.0755213e-04,\n",
       "       1.8696955e-03, 2.8929371e-05], dtype=float32)"
      ]
     },
     "execution_count": 49,
     "metadata": {},
     "output_type": "execute_result"
    }
   ],
   "source": [
    "result = model.predict(img_t_1d)\n",
    "result[0]"
   ]
  },
  {
   "cell_type": "code",
   "execution_count": 50,
   "id": "2bf23002",
   "metadata": {},
   "outputs": [
    {
     "name": "stdout",
     "output_type": "stream",
     "text": [
      "The Number is:  1\n"
     ]
    }
   ],
   "source": [
    "max_index = np.argmax(result[0], axis=0)\n",
    "print(\"The Number is: \",max_index)"
   ]
  },
  {
   "cell_type": "markdown",
   "id": "ea6890a1",
   "metadata": {},
   "source": [
    "### Self Hand Writing"
   ]
  },
  {
   "cell_type": "code",
   "execution_count": 51,
   "id": "037f19bf",
   "metadata": {},
   "outputs": [
    {
     "data": {
      "text/plain": [
       "<matplotlib.image.AxesImage at 0x20372239100>"
      ]
     },
     "execution_count": 51,
     "metadata": {},
     "output_type": "execute_result"
    },
    {
     "data": {
      "image/png": "[encoded data removed]",
      "text/plain": [
       "<Figure size 432x288 with 1 Axes>"
      ]
     },
     "metadata": {
      "needs_background": "light"
     },
     "output_type": "display_data"
    }
   ],
   "source": [
    "import cv2\n",
    "img_real = cv2.imread(\"dig_7.jpg\",cv2.IMREAD_GRAYSCALE)\n",
    "img_self = cv2.bitwise_not(img_real)\n",
    "plt.imshow(img_self)\n"
   ]
  },
  {
   "cell_type": "code",
   "execution_count": 52,
   "id": "a12b76f0",
   "metadata": {},
   "outputs": [
    {
     "data": {
      "text/plain": [
       "(433, 369)"
      ]
     },
     "execution_count": 52,
     "metadata": {},
     "output_type": "execute_result"
    }
   ],
   "source": [
    "img_self.shape"
   ]
  },
  {
   "cell_type": "code",
   "execution_count": 53,
   "id": "8a1c004d",
   "metadata": {},
   "outputs": [],
   "source": [
    "img_self_t = cv2.resize(img_self,(28,28))"
   ]
  },
  {
   "cell_type": "code",
   "execution_count": 54,
   "id": "40b5df52",
   "metadata": {},
   "outputs": [
    {
     "data": {
      "text/plain": [
       "(28, 28)"
      ]
     },
     "execution_count": 54,
     "metadata": {},
     "output_type": "execute_result"
    }
   ],
   "source": [
    "img_self_t.shape"
   ]
  },
  {
   "cell_type": "code",
   "execution_count": 55,
   "id": "c19577f2",
   "metadata": {},
   "outputs": [
    {
     "data": {
      "text/plain": [
       "(1, 784)"
      ]
     },
     "execution_count": 55,
     "metadata": {},
     "output_type": "execute_result"
    }
   ],
   "source": [
    "img_t_1d = img_self_t.reshape(-1,28*28)\n",
    "img_t_1d.shape"
   ]
  },
  {
   "cell_type": "code",
   "execution_count": 56,
   "id": "e9866122",
   "metadata": {},
   "outputs": [
    {
     "data": {
      "text/plain": [
       "array([[ 87,  83,  86,  85,  90,  89,  90,  88,  87,  87,  86,  88,  87,\n",
       "         85,  89,  87,  86,  86,  88,  86,  87,  86,  86,  85,  85,  85,\n",
       "         86,  82,  89,  87,  89,  88,  89,  90,  89,  91,  88,  91,  87,\n",
       "         86,  87,  89,  88,  87,  89,  89,  88,  86,  87,  90,  87,  87,\n",
       "         86,  86,  84,  82,  89,  87,  88,  91,  90,  89,  94,  89,  88,\n",
       "         84,  87,  87,  87,  88,  88,  88,  89,  89,  88,  88,  88,  88,\n",
       "         85,  87,  85,  84,  85,  88,  89,  90,  90,  92,  95,  97,  94,\n",
       "         91,  85,  89,  88,  87,  86,  86,  89,  88,  88,  88,  87,  87,\n",
       "         88,  89,  88,  88,  86,  85,  84,  85,  89,  91,  89,  94,  90,\n",
       "         96,  96,  95,  89,  88,  88,  88,  86,  88,  89,  89,  86,  89,\n",
       "         89,  89,  90,  89,  89,  88,  87,  85,  87,  86,  89,  89,  91,\n",
       "         93,  93,  92,  95, 102,  87,  89,  91,  88,  87,  89,  92,  90,\n",
       "         89,  88,  89,  90,  90,  89,  90,  87,  88,  89,  82,  85,  86,\n",
       "         88,  90,  91,  92,  94,  91,  91,  87,  89,  88,  88,  89,  89,\n",
       "         90,  90,  89,  90,  90,  89,  91,  90,  90,  87,  88,  86,  89,\n",
       "         88,  88,  87,  91,  92,  90,  89,  87,  88,  89,  89,  89,  90,\n",
       "         87,  90,  90,  89,  90,  91,  91,  90,  90,  90,  92,  90,  90,\n",
       "         91,  89,  87,  89,  87,  90,  91,  87,  87,  90,  90,  90,  89,\n",
       "         90,  90,  92,  91,  90,  91,  93,  91,  92,  89,  89,  90,  94,\n",
       "         92,  89,  92,  92,  87,  87,  90,  88,  89,  86,  85,  89,  89,\n",
       "         88,  90,  90,  92,  88,  90,  91,  92,  91,  90,  91,  91,  90,\n",
       "         90,  89,  91,  92,  91,  94,  92,  88,  88,  90,  87,  87,  88,\n",
       "         87,  88,  87,  87,  91,  90,  92,  91,  91,  92,  92,  95,  94,\n",
       "         90,  90,  90,  91,  91,  94,  93,  91,  98,  90,  89,  90,  89,\n",
       "         88,  87,  88,  89,  88,  88,  88,  91,  91,  91,  94,  95,  97,\n",
       "         92,  92,  92,  90,  90,  92,  92,  90,  90,  88,  92,  88,  89,\n",
       "         90,  90,  89,  86,  86,  87,  88,  88, 110, 126, 162, 240, 246,\n",
       "        240, 226, 240,  93,  90,  90,  89,  91,  91,  90,  91,  90,  92,\n",
       "         88,  89,  89,  90,  89,  89,  88,  86,  86,  88,  92, 107,  88,\n",
       "         98,  97, 104, 237,  98,  92,  90,  92,  91,  93,  90,  91,  90,\n",
       "         92,  92,  88,  89,  90,  87,  88,  87,  89,  84,  86,  89,  87,\n",
       "         91,  93,  92,  93, 155, 131,  94,  92,  90,  91,  92,  94,  91,\n",
       "         92,  92,  89,  90,  91,  89,  88,  90,  86,  87,  84,  86,  86,\n",
       "         84,  85,  86,  88,  93, 128, 230, 100,  93,  96,  92,  90,  93,\n",
       "         93,  93,  93,  94,  99,  94,  88,  88,  88,  88,  87,  86,  87,\n",
       "         85,  85,  87,  86,  86,  89,  94, 133, 111,  97,  92,  92,  91,\n",
       "         93,  94,  95,  96,  94,  94,  94,  96,  90,  90,  89,  89,  88,\n",
       "         88,  89,  87,  84,  89,  89,  88,  88, 166, 240,  99,  97,  93,\n",
       "         91,  91,  92,  92,  94,  94,  95,  96,  95,  95,  87,  89,  89,\n",
       "         88,  87,  87,  88,  89,  87,  89,  87,  89,  89, 206, 221,  93,\n",
       "         91,  89,  93,  91,  92,  91,  94,  94,  94,  96,  91,  98,  90,\n",
       "         90,  90,  88,  89,  88,  90,  88,  88,  88,  88,  93,  91, 189,\n",
       "        221,  91,  90,  91,  91,  91,  91,  91,  98,  95,  94,  93,  92,\n",
       "         94,  89,  92,  94,  92,  88,  89,  91,  90,  88,  89,  88,  90,\n",
       "         90,  93,  89,  88,  91,  92,  90,  89,  92,  93,  96,  93,  94,\n",
       "         94,  91,  90,  91,  91,  91,  93,  91,  89,  91,  90,  89,  89,\n",
       "         87,  89,  87,  91,  89,  90,  94,  91,  92,  92,  90,  89,  92,\n",
       "         91,  93,  94,  92,  89,  91,  92,  94,  92,  90,  89,  92,  89,\n",
       "         90,  90,  91,  90,  90,  90,  90,  91,  93,  91,  91,  91,  91,\n",
       "         91,  91,  91,  92,  90,  92,  92,  90,  91,  91,  90,  89,  89,\n",
       "         90,  86,  89,  89,  87,  88,  89,  90,  89,  89,  89,  92,  92,\n",
       "         90,  91,  91,  89,  91,  91,  90,  90,  90,  90,  89,  93,  94,\n",
       "         89,  93,  90,  89,  89,  90,  87,  88,  88,  89,  90,  91,  91,\n",
       "         89,  92,  90,  91,  89,  90,  88,  90,  91,  89,  92,  89,  90,\n",
       "         94,  94,  92,  90,  91,  90,  91,  90,  86,  87,  92,  93,  91,\n",
       "         91,  92,  90,  91,  90,  94,  92,  90,  89,  90,  89,  90,  89,\n",
       "         90,  90,  93,  94,  91,  91,  91,  91,  92,  92,  91,  89,  93,\n",
       "         94,  91,  96,  94,  94,  94,  95,  93,  91,  90,  94,  92,  92,\n",
       "         94,  94, 104, 104, 104, 107, 104, 106, 107, 109, 107, 107, 107,\n",
       "        108, 110, 107, 110, 109, 111, 112, 110, 112, 113, 110, 106, 112,\n",
       "        108, 108, 109, 104]], dtype=uint8)"
      ]
     },
     "execution_count": 56,
     "metadata": {},
     "output_type": "execute_result"
    }
   ],
   "source": [
    "img_t_1d"
   ]
  },
  {
   "cell_type": "code",
   "execution_count": 57,
   "id": "d38856cd",
   "metadata": {},
   "outputs": [
    {
     "data": {
      "text/plain": [
       "array([0.0000000e+00, 0.0000000e+00, 0.0000000e+00, 0.0000000e+00,\n",
       "       4.5342903e-31, 0.0000000e+00, 0.0000000e+00, 1.0000000e+00,\n",
       "       0.0000000e+00, 1.3251335e-15], dtype=float32)"
      ]
     },
     "execution_count": 57,
     "metadata": {},
     "output_type": "execute_result"
    }
   ],
   "source": [
    "result = model.predict(img_t_1d)\n",
    "result[0]"
   ]
  },
  {
   "cell_type": "code",
   "execution_count": 58,
   "id": "46697891",
   "metadata": {},
   "outputs": [
    {
     "name": "stdout",
     "output_type": "stream",
     "text": [
      "The Number is:  7\n"
     ]
    }
   ],
   "source": [
    "max_index = np.argmax(result[0], axis=0)\n",
    "print(\"The Number is: \",max_index)"
   ]
  },
  {
   "cell_type": "code",
   "execution_count": null,
   "id": "5257c3f2",
   "metadata": {},
   "outputs": [],
   "source": []
  },
  {
   "cell_type": "code",
   "execution_count": null,
   "id": "37313d08",
   "metadata": {},
   "outputs": [],
   "source": []
  }
 ],
 "metadata": {
  "kernelspec": {
   "display_name": "Python 3",
   "language": "python",
   "name": "python3"
  },
  "language_info": {
   "codemirror_mode": {
    "name": "ipython",
    "version": 3
   },
   "file_extension": ".py",
   "mimetype": "text/x-python",
   "name": "python",
   "nbconvert_exporter": "python",
   "pygments_lexer": "ipython3",
   "version": "3.8.8"
  }
 },
 "nbformat": 4,
 "nbformat_minor": 5
}
