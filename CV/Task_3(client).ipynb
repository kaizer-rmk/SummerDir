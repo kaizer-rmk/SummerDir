{
 "cells": [
  {
   "cell_type": "code",
   "execution_count": null,
   "id": "56c5ab13",
   "metadata": {},
   "outputs": [],
   "source": [
    "import socket\n",
    "import cv2 \n",
    "import pickle\n",
    "import struct\n",
    "\n",
    "# Configure Socket\n",
    "s = socket.socket()\n",
    "serverip = \"192.168.225.53\"\n",
    "serverport = 2222\n",
    "s.connect( (serverip,serverport) )\n",
    "\n",
    "# Data Transfer\n",
    "cam = cv2.VideoCapture(0)\n",
    "\n",
    "img_counter = 0\n",
    "\n",
    "encode_param = [int(cv2.IMWRITE_JPEG_QUALITY), 90]\n",
    "\n",
    "while True:\n",
    "    ret,frame = cam.read()\n",
    "    \n",
    "    result, frame = cv2.imencode('.jpg', frame, encode_param)\n",
    "    data = pickle.dumps(frame, 0)\n",
    "    size = len(data)\n",
    "    \n",
    "    print(\"{}: {}\".format(img_counter, size))\n",
    "    s.sendall(struct.pack(\">L\", size) + data)\n",
    "    img_counter += 1\n",
    "    frame = cv2.imdecode(frame, cv2.IMREAD_COLOR)\n",
    "    cv2.imshow('Client',frame)\n",
    "    if cv2.waitKey(1) & 0xFF==ord('q'):\n",
    "        cv2.destroyAllWindows()\n",
    "        cam.release()\n",
    "        break\n",
    "    "
   ]
  },
  {
   "cell_type": "code",
   "execution_count": 7,
   "id": "fcf3d7bb",
   "metadata": {},
   "outputs": [],
   "source": []
  }
 ],
 "metadata": {
  "kernelspec": {
   "display_name": "Python 3",
   "language": "python",
   "name": "python3"
  },
  "language_info": {
   "codemirror_mode": {
    "name": "ipython",
    "version": 3
   },
   "file_extension": ".py",
   "mimetype": "text/x-python",
   "name": "python",
   "nbconvert_exporter": "python",
   "pygments_lexer": "ipython3",
   "version": "3.8.8"
  }
 },
 "nbformat": 4,
 "nbformat_minor": 5
}
