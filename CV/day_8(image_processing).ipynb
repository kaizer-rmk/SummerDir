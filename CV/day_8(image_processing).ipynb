{
 "cells": [
  {
   "cell_type": "code",
   "execution_count": 1,
   "id": "b981b066",
   "metadata": {},
   "outputs": [],
   "source": [
    "import cv2"
   ]
  },
  {
   "cell_type": "code",
   "execution_count": 2,
   "id": "a087d83d",
   "metadata": {},
   "outputs": [],
   "source": [
    "#import image\n",
    "photo = cv2.imread('dp.jpg')"
   ]
  },
  {
   "cell_type": "code",
   "execution_count": 3,
   "id": "5ef331e5",
   "metadata": {},
   "outputs": [],
   "source": [
    "#display image\n",
    "cv2.imshow(\"My picture\",photo)\n",
    "cv2.waitKey()\n",
    "cv2.destroyAllWindows()"
   ]
  },
  {
   "cell_type": "code",
   "execution_count": 4,
   "id": "2f30df5c",
   "metadata": {},
   "outputs": [
    {
     "data": {
      "text/plain": [
       "(809, 810, 3)"
      ]
     },
     "execution_count": 4,
     "metadata": {},
     "output_type": "execute_result"
    }
   ],
   "source": [
    "photo.shape"
   ]
  },
  {
   "cell_type": "code",
   "execution_count": 5,
   "id": "39a4c9cd",
   "metadata": {},
   "outputs": [
    {
     "data": {
      "text/plain": [
       "array([[[250, 250, 250],\n",
       "        [215, 215, 215],\n",
       "        [215, 215, 215],\n",
       "        ...,\n",
       "        [211, 211, 211],\n",
       "        [211, 211, 211],\n",
       "        [244, 244, 244]],\n",
       "\n",
       "       [[219, 219, 219],\n",
       "        [ 99,  99,  99],\n",
       "        [ 54,  54,  54],\n",
       "        ...,\n",
       "        [ 38,  38,  38],\n",
       "        [ 36,  36,  36],\n",
       "        [200, 200, 200]],\n",
       "\n",
       "       [[221, 221, 221],\n",
       "        [ 87,  87,  87],\n",
       "        [ 48,  48,  48],\n",
       "        ...,\n",
       "        [ 29,  29,  29],\n",
       "        [ 30,  30,  30],\n",
       "        [198, 198, 198]],\n",
       "\n",
       "       ...,\n",
       "\n",
       "       [[218, 218, 218],\n",
       "        [ 81,  81,  81],\n",
       "        [  0,   0,   0],\n",
       "        ...,\n",
       "        [  0,   0,   0],\n",
       "        [  0,   0,   0],\n",
       "        [191, 191, 191]],\n",
       "\n",
       "       [[218, 218, 218],\n",
       "        [ 81,  81,  81],\n",
       "        [  0,   0,   0],\n",
       "        ...,\n",
       "        [  0,   0,   0],\n",
       "        [  0,   0,   0],\n",
       "        [191, 191, 191]],\n",
       "\n",
       "       [[227, 227, 227],\n",
       "        [127, 127, 127],\n",
       "        [ 74,  74,  74],\n",
       "        ...,\n",
       "        [ 78,  79,  77],\n",
       "        [ 78,  79,  77],\n",
       "        [211, 212, 210]]], dtype=uint8)"
      ]
     },
     "execution_count": 5,
     "metadata": {},
     "output_type": "execute_result"
    }
   ],
   "source": [
    "photo"
   ]
  },
  {
   "cell_type": "code",
   "execution_count": 6,
   "id": "dc9bd259",
   "metadata": {},
   "outputs": [],
   "source": [
    "#Here we are modifying the pixels of image\n",
    "photo[10] = [255,255,255]"
   ]
  },
  {
   "cell_type": "code",
   "execution_count": 7,
   "id": "e49a01d1",
   "metadata": {},
   "outputs": [
    {
     "data": {
      "text/plain": [
       "array([[255, 255, 255],\n",
       "       [255, 255, 255],\n",
       "       [255, 255, 255],\n",
       "       ...,\n",
       "       [255, 255, 255],\n",
       "       [255, 255, 255],\n",
       "       [255, 255, 255]], dtype=uint8)"
      ]
     },
     "execution_count": 7,
     "metadata": {},
     "output_type": "execute_result"
    }
   ],
   "source": [
    "photo[10]"
   ]
  },
  {
   "cell_type": "code",
   "execution_count": 8,
   "id": "878df150",
   "metadata": {},
   "outputs": [],
   "source": [
    "cv2.imshow(\"My picture\",photo)\n",
    "cv2.waitKey()\n",
    "cv2.destroyAllWindows()"
   ]
  },
  {
   "cell_type": "code",
   "execution_count": 25,
   "id": "bf434b93",
   "metadata": {},
   "outputs": [],
   "source": [
    "#In this way we can crop the image\n",
    "cphoto = photo[10:400,100:650]"
   ]
  },
  {
   "cell_type": "code",
   "execution_count": 26,
   "id": "ebc8ec43",
   "metadata": {},
   "outputs": [
    {
     "data": {
      "text/plain": [
       "(390, 550, 3)"
      ]
     },
     "execution_count": 26,
     "metadata": {},
     "output_type": "execute_result"
    }
   ],
   "source": [
    "cphoto.shape"
   ]
  },
  {
   "cell_type": "code",
   "execution_count": 27,
   "id": "50b250be",
   "metadata": {},
   "outputs": [],
   "source": [
    "cv2.imshow(\"My picture\",cphoto)\n",
    "cv2.waitKey()\n",
    "cv2.destroyAllWindows()"
   ]
  },
  {
   "cell_type": "code",
   "execution_count": null,
   "id": "f8c64b6a",
   "metadata": {},
   "outputs": [],
   "source": []
  }
 ],
 "metadata": {
  "kernelspec": {
   "display_name": "Python 3",
   "language": "python",
   "name": "python3"
  },
  "language_info": {
   "codemirror_mode": {
    "name": "ipython",
    "version": 3
   },
   "file_extension": ".py",
   "mimetype": "text/x-python",
   "name": "python",
   "nbconvert_exporter": "python",
   "pygments_lexer": "ipython3",
   "version": "3.8.8"
  }
 },
 "nbformat": 4,
 "nbformat_minor": 5
}
